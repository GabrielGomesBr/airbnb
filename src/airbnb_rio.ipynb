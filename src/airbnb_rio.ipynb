{
 "cells": [
  {
   "cell_type": "code",
   "execution_count": 1,
   "metadata": {},
   "outputs": [],
   "source": [
    "import pandas as pd\n",
    "import matplotlib.pyplot as plt"
   ]
  },
  {
   "cell_type": "code",
   "execution_count": 2,
   "metadata": {},
   "outputs": [
    {
     "ename": "FileNotFoundError",
     "evalue": "[Errno 2] File ./data/listings.csv does not exist: './data/listings.csv'",
     "output_type": "error",
     "traceback": [
      "\u001b[1;31m---------------------------------------------------------------------------\u001b[0m",
      "\u001b[1;31mFileNotFoundError\u001b[0m                         Traceback (most recent call last)",
      "\u001b[1;32m<ipython-input-2-59cbc5f44cc9>\u001b[0m in \u001b[0;36m<module>\u001b[1;34m\u001b[0m\n\u001b[1;32m----> 1\u001b[1;33m \u001b[0mlistings\u001b[0m \u001b[1;33m=\u001b[0m \u001b[0mpd\u001b[0m\u001b[1;33m.\u001b[0m\u001b[0mread_csv\u001b[0m\u001b[1;33m(\u001b[0m\u001b[1;34m'./data/listings.csv'\u001b[0m\u001b[1;33m)\u001b[0m\u001b[1;33m\u001b[0m\u001b[1;33m\u001b[0m\u001b[0m\n\u001b[0m\u001b[0;32m      2\u001b[0m \u001b[0mreviews\u001b[0m \u001b[1;33m=\u001b[0m \u001b[0mpd\u001b[0m\u001b[1;33m.\u001b[0m\u001b[0mread_csv\u001b[0m\u001b[1;33m(\u001b[0m\u001b[1;34m'./data/reviews.csv'\u001b[0m\u001b[1;33m)\u001b[0m\u001b[1;33m\u001b[0m\u001b[1;33m\u001b[0m\u001b[0m\n\u001b[0;32m      3\u001b[0m \u001b[0mcalendar\u001b[0m \u001b[1;33m=\u001b[0m \u001b[0mpd\u001b[0m\u001b[1;33m.\u001b[0m\u001b[0mread_csv\u001b[0m\u001b[1;33m(\u001b[0m\u001b[1;34m'./data/calendar.csv'\u001b[0m\u001b[1;33m)\u001b[0m\u001b[1;33m\u001b[0m\u001b[1;33m\u001b[0m\u001b[0m\n",
      "\u001b[1;32m~\\anaconda3\\lib\\site-packages\\pandas\\io\\parsers.py\u001b[0m in \u001b[0;36mparser_f\u001b[1;34m(filepath_or_buffer, sep, delimiter, header, names, index_col, usecols, squeeze, prefix, mangle_dupe_cols, dtype, engine, converters, true_values, false_values, skipinitialspace, skiprows, skipfooter, nrows, na_values, keep_default_na, na_filter, verbose, skip_blank_lines, parse_dates, infer_datetime_format, keep_date_col, date_parser, dayfirst, cache_dates, iterator, chunksize, compression, thousands, decimal, lineterminator, quotechar, quoting, doublequote, escapechar, comment, encoding, dialect, error_bad_lines, warn_bad_lines, delim_whitespace, low_memory, memory_map, float_precision)\u001b[0m\n\u001b[0;32m    674\u001b[0m         )\n\u001b[0;32m    675\u001b[0m \u001b[1;33m\u001b[0m\u001b[0m\n\u001b[1;32m--> 676\u001b[1;33m         \u001b[1;32mreturn\u001b[0m \u001b[0m_read\u001b[0m\u001b[1;33m(\u001b[0m\u001b[0mfilepath_or_buffer\u001b[0m\u001b[1;33m,\u001b[0m \u001b[0mkwds\u001b[0m\u001b[1;33m)\u001b[0m\u001b[1;33m\u001b[0m\u001b[1;33m\u001b[0m\u001b[0m\n\u001b[0m\u001b[0;32m    677\u001b[0m \u001b[1;33m\u001b[0m\u001b[0m\n\u001b[0;32m    678\u001b[0m     \u001b[0mparser_f\u001b[0m\u001b[1;33m.\u001b[0m\u001b[0m__name__\u001b[0m \u001b[1;33m=\u001b[0m \u001b[0mname\u001b[0m\u001b[1;33m\u001b[0m\u001b[1;33m\u001b[0m\u001b[0m\n",
      "\u001b[1;32m~\\anaconda3\\lib\\site-packages\\pandas\\io\\parsers.py\u001b[0m in \u001b[0;36m_read\u001b[1;34m(filepath_or_buffer, kwds)\u001b[0m\n\u001b[0;32m    446\u001b[0m \u001b[1;33m\u001b[0m\u001b[0m\n\u001b[0;32m    447\u001b[0m     \u001b[1;31m# Create the parser.\u001b[0m\u001b[1;33m\u001b[0m\u001b[1;33m\u001b[0m\u001b[1;33m\u001b[0m\u001b[0m\n\u001b[1;32m--> 448\u001b[1;33m     \u001b[0mparser\u001b[0m \u001b[1;33m=\u001b[0m \u001b[0mTextFileReader\u001b[0m\u001b[1;33m(\u001b[0m\u001b[0mfp_or_buf\u001b[0m\u001b[1;33m,\u001b[0m \u001b[1;33m**\u001b[0m\u001b[0mkwds\u001b[0m\u001b[1;33m)\u001b[0m\u001b[1;33m\u001b[0m\u001b[1;33m\u001b[0m\u001b[0m\n\u001b[0m\u001b[0;32m    449\u001b[0m \u001b[1;33m\u001b[0m\u001b[0m\n\u001b[0;32m    450\u001b[0m     \u001b[1;32mif\u001b[0m \u001b[0mchunksize\u001b[0m \u001b[1;32mor\u001b[0m \u001b[0miterator\u001b[0m\u001b[1;33m:\u001b[0m\u001b[1;33m\u001b[0m\u001b[1;33m\u001b[0m\u001b[0m\n",
      "\u001b[1;32m~\\anaconda3\\lib\\site-packages\\pandas\\io\\parsers.py\u001b[0m in \u001b[0;36m__init__\u001b[1;34m(self, f, engine, **kwds)\u001b[0m\n\u001b[0;32m    878\u001b[0m             \u001b[0mself\u001b[0m\u001b[1;33m.\u001b[0m\u001b[0moptions\u001b[0m\u001b[1;33m[\u001b[0m\u001b[1;34m\"has_index_names\"\u001b[0m\u001b[1;33m]\u001b[0m \u001b[1;33m=\u001b[0m \u001b[0mkwds\u001b[0m\u001b[1;33m[\u001b[0m\u001b[1;34m\"has_index_names\"\u001b[0m\u001b[1;33m]\u001b[0m\u001b[1;33m\u001b[0m\u001b[1;33m\u001b[0m\u001b[0m\n\u001b[0;32m    879\u001b[0m \u001b[1;33m\u001b[0m\u001b[0m\n\u001b[1;32m--> 880\u001b[1;33m         \u001b[0mself\u001b[0m\u001b[1;33m.\u001b[0m\u001b[0m_make_engine\u001b[0m\u001b[1;33m(\u001b[0m\u001b[0mself\u001b[0m\u001b[1;33m.\u001b[0m\u001b[0mengine\u001b[0m\u001b[1;33m)\u001b[0m\u001b[1;33m\u001b[0m\u001b[1;33m\u001b[0m\u001b[0m\n\u001b[0m\u001b[0;32m    881\u001b[0m \u001b[1;33m\u001b[0m\u001b[0m\n\u001b[0;32m    882\u001b[0m     \u001b[1;32mdef\u001b[0m \u001b[0mclose\u001b[0m\u001b[1;33m(\u001b[0m\u001b[0mself\u001b[0m\u001b[1;33m)\u001b[0m\u001b[1;33m:\u001b[0m\u001b[1;33m\u001b[0m\u001b[1;33m\u001b[0m\u001b[0m\n",
      "\u001b[1;32m~\\anaconda3\\lib\\site-packages\\pandas\\io\\parsers.py\u001b[0m in \u001b[0;36m_make_engine\u001b[1;34m(self, engine)\u001b[0m\n\u001b[0;32m   1112\u001b[0m     \u001b[1;32mdef\u001b[0m \u001b[0m_make_engine\u001b[0m\u001b[1;33m(\u001b[0m\u001b[0mself\u001b[0m\u001b[1;33m,\u001b[0m \u001b[0mengine\u001b[0m\u001b[1;33m=\u001b[0m\u001b[1;34m\"c\"\u001b[0m\u001b[1;33m)\u001b[0m\u001b[1;33m:\u001b[0m\u001b[1;33m\u001b[0m\u001b[1;33m\u001b[0m\u001b[0m\n\u001b[0;32m   1113\u001b[0m         \u001b[1;32mif\u001b[0m \u001b[0mengine\u001b[0m \u001b[1;33m==\u001b[0m \u001b[1;34m\"c\"\u001b[0m\u001b[1;33m:\u001b[0m\u001b[1;33m\u001b[0m\u001b[1;33m\u001b[0m\u001b[0m\n\u001b[1;32m-> 1114\u001b[1;33m             \u001b[0mself\u001b[0m\u001b[1;33m.\u001b[0m\u001b[0m_engine\u001b[0m \u001b[1;33m=\u001b[0m \u001b[0mCParserWrapper\u001b[0m\u001b[1;33m(\u001b[0m\u001b[0mself\u001b[0m\u001b[1;33m.\u001b[0m\u001b[0mf\u001b[0m\u001b[1;33m,\u001b[0m \u001b[1;33m**\u001b[0m\u001b[0mself\u001b[0m\u001b[1;33m.\u001b[0m\u001b[0moptions\u001b[0m\u001b[1;33m)\u001b[0m\u001b[1;33m\u001b[0m\u001b[1;33m\u001b[0m\u001b[0m\n\u001b[0m\u001b[0;32m   1115\u001b[0m         \u001b[1;32melse\u001b[0m\u001b[1;33m:\u001b[0m\u001b[1;33m\u001b[0m\u001b[1;33m\u001b[0m\u001b[0m\n\u001b[0;32m   1116\u001b[0m             \u001b[1;32mif\u001b[0m \u001b[0mengine\u001b[0m \u001b[1;33m==\u001b[0m \u001b[1;34m\"python\"\u001b[0m\u001b[1;33m:\u001b[0m\u001b[1;33m\u001b[0m\u001b[1;33m\u001b[0m\u001b[0m\n",
      "\u001b[1;32m~\\anaconda3\\lib\\site-packages\\pandas\\io\\parsers.py\u001b[0m in \u001b[0;36m__init__\u001b[1;34m(self, src, **kwds)\u001b[0m\n\u001b[0;32m   1889\u001b[0m         \u001b[0mkwds\u001b[0m\u001b[1;33m[\u001b[0m\u001b[1;34m\"usecols\"\u001b[0m\u001b[1;33m]\u001b[0m \u001b[1;33m=\u001b[0m \u001b[0mself\u001b[0m\u001b[1;33m.\u001b[0m\u001b[0musecols\u001b[0m\u001b[1;33m\u001b[0m\u001b[1;33m\u001b[0m\u001b[0m\n\u001b[0;32m   1890\u001b[0m \u001b[1;33m\u001b[0m\u001b[0m\n\u001b[1;32m-> 1891\u001b[1;33m         \u001b[0mself\u001b[0m\u001b[1;33m.\u001b[0m\u001b[0m_reader\u001b[0m \u001b[1;33m=\u001b[0m \u001b[0mparsers\u001b[0m\u001b[1;33m.\u001b[0m\u001b[0mTextReader\u001b[0m\u001b[1;33m(\u001b[0m\u001b[0msrc\u001b[0m\u001b[1;33m,\u001b[0m \u001b[1;33m**\u001b[0m\u001b[0mkwds\u001b[0m\u001b[1;33m)\u001b[0m\u001b[1;33m\u001b[0m\u001b[1;33m\u001b[0m\u001b[0m\n\u001b[0m\u001b[0;32m   1892\u001b[0m         \u001b[0mself\u001b[0m\u001b[1;33m.\u001b[0m\u001b[0munnamed_cols\u001b[0m \u001b[1;33m=\u001b[0m \u001b[0mself\u001b[0m\u001b[1;33m.\u001b[0m\u001b[0m_reader\u001b[0m\u001b[1;33m.\u001b[0m\u001b[0munnamed_cols\u001b[0m\u001b[1;33m\u001b[0m\u001b[1;33m\u001b[0m\u001b[0m\n\u001b[0;32m   1893\u001b[0m \u001b[1;33m\u001b[0m\u001b[0m\n",
      "\u001b[1;32mpandas\\_libs\\parsers.pyx\u001b[0m in \u001b[0;36mpandas._libs.parsers.TextReader.__cinit__\u001b[1;34m()\u001b[0m\n",
      "\u001b[1;32mpandas\\_libs\\parsers.pyx\u001b[0m in \u001b[0;36mpandas._libs.parsers.TextReader._setup_parser_source\u001b[1;34m()\u001b[0m\n",
      "\u001b[1;31mFileNotFoundError\u001b[0m: [Errno 2] File ./data/listings.csv does not exist: './data/listings.csv'"
     ]
    }
   ],
   "source": [
    "listings = pd.read_csv('./data/listings.csv')\n",
    "reviews = pd.read_csv('./data/reviews.csv')\n",
    "calendar = pd.read_csv('./data/calendar.csv')"
   ]
  },
  {
   "cell_type": "code",
   "execution_count": 3,
   "metadata": {},
   "outputs": [
    {
     "data": {
      "text/plain": [
       "Index(['id', 'listing_url', 'scrape_id', 'last_scraped', 'name', 'description',\n",
       "       'neighborhood_overview', 'picture_url', 'host_id', 'host_url',\n",
       "       'host_name', 'host_since', 'host_location', 'host_about',\n",
       "       'host_response_time', 'host_response_rate', 'host_acceptance_rate',\n",
       "       'host_is_superhost', 'host_thumbnail_url', 'host_picture_url',\n",
       "       'host_neighbourhood', 'host_listings_count',\n",
       "       'host_total_listings_count', 'host_verifications',\n",
       "       'host_has_profile_pic', 'host_identity_verified', 'neighbourhood',\n",
       "       'neighbourhood_cleansed', 'neighbourhood_group_cleansed', 'latitude',\n",
       "       'longitude', 'property_type', 'room_type', 'accommodates', 'bathrooms',\n",
       "       'bathrooms_text', 'bedrooms', 'beds', 'amenities', 'price',\n",
       "       'minimum_nights', 'maximum_nights', 'minimum_minimum_nights',\n",
       "       'maximum_minimum_nights', 'minimum_maximum_nights',\n",
       "       'maximum_maximum_nights', 'minimum_nights_avg_ntm',\n",
       "       'maximum_nights_avg_ntm', 'calendar_updated', 'has_availability',\n",
       "       'availability_30', 'availability_60', 'availability_90',\n",
       "       'availability_365', 'calendar_last_scraped', 'number_of_reviews',\n",
       "       'number_of_reviews_ltm', 'number_of_reviews_l30d', 'first_review',\n",
       "       'last_review', 'review_scores_rating', 'review_scores_accuracy',\n",
       "       'review_scores_cleanliness', 'review_scores_checkin',\n",
       "       'review_scores_communication', 'review_scores_location',\n",
       "       'review_scores_value', 'license', 'instant_bookable',\n",
       "       'calculated_host_listings_count',\n",
       "       'calculated_host_listings_count_entire_homes',\n",
       "       'calculated_host_listings_count_private_rooms',\n",
       "       'calculated_host_listings_count_shared_rooms', 'reviews_per_month'],\n",
       "      dtype='object')"
      ]
     },
     "execution_count": 3,
     "metadata": {},
     "output_type": "execute_result"
    }
   ],
   "source": [
    "listings.columns"
   ]
  },
  {
   "cell_type": "code",
   "execution_count": 4,
   "metadata": {},
   "outputs": [
    {
     "data": {
      "text/html": [
       "<div>\n",
       "<style scoped>\n",
       "    .dataframe tbody tr th:only-of-type {\n",
       "        vertical-align: middle;\n",
       "    }\n",
       "\n",
       "    .dataframe tbody tr th {\n",
       "        vertical-align: top;\n",
       "    }\n",
       "\n",
       "    .dataframe thead th {\n",
       "        text-align: right;\n",
       "    }\n",
       "</style>\n",
       "<table border=\"1\" class=\"dataframe\">\n",
       "  <thead>\n",
       "    <tr style=\"text-align: right;\">\n",
       "      <th></th>\n",
       "      <th>id</th>\n",
       "      <th>listing_url</th>\n",
       "      <th>scrape_id</th>\n",
       "      <th>last_scraped</th>\n",
       "      <th>name</th>\n",
       "      <th>description</th>\n",
       "      <th>neighborhood_overview</th>\n",
       "      <th>picture_url</th>\n",
       "      <th>host_id</th>\n",
       "      <th>host_url</th>\n",
       "      <th>...</th>\n",
       "      <th>review_scores_communication</th>\n",
       "      <th>review_scores_location</th>\n",
       "      <th>review_scores_value</th>\n",
       "      <th>license</th>\n",
       "      <th>instant_bookable</th>\n",
       "      <th>calculated_host_listings_count</th>\n",
       "      <th>calculated_host_listings_count_entire_homes</th>\n",
       "      <th>calculated_host_listings_count_private_rooms</th>\n",
       "      <th>calculated_host_listings_count_shared_rooms</th>\n",
       "      <th>reviews_per_month</th>\n",
       "    </tr>\n",
       "  </thead>\n",
       "  <tbody>\n",
       "    <tr>\n",
       "      <th>0</th>\n",
       "      <td>17878</td>\n",
       "      <td>https://www.airbnb.com/rooms/17878</td>\n",
       "      <td>20201223235510</td>\n",
       "      <td>2020-12-30</td>\n",
       "      <td>Very Nice 2Br in Copacabana w. balcony, fast WiFi</td>\n",
       "      <td>Discounts for long term stays. &lt;br /&gt;- Large b...</td>\n",
       "      <td>This is the one of the bests spots in Rio. Bec...</td>\n",
       "      <td>https://a0.muscache.com/pictures/65320518/3069...</td>\n",
       "      <td>68997</td>\n",
       "      <td>https://www.airbnb.com/users/show/68997</td>\n",
       "      <td>...</td>\n",
       "      <td>10.0</td>\n",
       "      <td>10.0</td>\n",
       "      <td>9.0</td>\n",
       "      <td>NaN</td>\n",
       "      <td>t</td>\n",
       "      <td>1</td>\n",
       "      <td>1</td>\n",
       "      <td>0</td>\n",
       "      <td>0</td>\n",
       "      <td>2.03</td>\n",
       "    </tr>\n",
       "    <tr>\n",
       "      <th>1</th>\n",
       "      <td>25026</td>\n",
       "      <td>https://www.airbnb.com/rooms/25026</td>\n",
       "      <td>20201223235510</td>\n",
       "      <td>2020-12-24</td>\n",
       "      <td>Beautiful Modern Decorated Studio in Copa</td>\n",
       "      <td>Our apartment is a little gem, everyone loves ...</td>\n",
       "      <td>Copacabana is a lively neighborhood and the ap...</td>\n",
       "      <td>https://a0.muscache.com/pictures/3003965/68ebb...</td>\n",
       "      <td>3746246</td>\n",
       "      <td>https://www.airbnb.com/users/show/3746246</td>\n",
       "      <td>...</td>\n",
       "      <td>10.0</td>\n",
       "      <td>10.0</td>\n",
       "      <td>9.0</td>\n",
       "      <td>NaN</td>\n",
       "      <td>f</td>\n",
       "      <td>11</td>\n",
       "      <td>11</td>\n",
       "      <td>0</td>\n",
       "      <td>0</td>\n",
       "      <td>1.85</td>\n",
       "    </tr>\n",
       "    <tr>\n",
       "      <th>2</th>\n",
       "      <td>35636</td>\n",
       "      <td>https://www.airbnb.com/rooms/35636</td>\n",
       "      <td>20201223235510</td>\n",
       "      <td>2020-12-24</td>\n",
       "      <td>Cosy flat close to Ipanema beach</td>\n",
       "      <td>This cosy apartment  is just a few steps away ...</td>\n",
       "      <td>The  apartment street is very quiet and safe ....</td>\n",
       "      <td>https://a0.muscache.com/pictures/20009355/38b6...</td>\n",
       "      <td>153232</td>\n",
       "      <td>https://www.airbnb.com/users/show/153232</td>\n",
       "      <td>...</td>\n",
       "      <td>10.0</td>\n",
       "      <td>10.0</td>\n",
       "      <td>9.0</td>\n",
       "      <td>NaN</td>\n",
       "      <td>f</td>\n",
       "      <td>1</td>\n",
       "      <td>1</td>\n",
       "      <td>0</td>\n",
       "      <td>0</td>\n",
       "      <td>2.07</td>\n",
       "    </tr>\n",
       "    <tr>\n",
       "      <th>3</th>\n",
       "      <td>35764</td>\n",
       "      <td>https://www.airbnb.com/rooms/35764</td>\n",
       "      <td>20201223235510</td>\n",
       "      <td>2020-12-24</td>\n",
       "      <td>COPACABANA SEA BREEZE  -  RIO - 20 X Superhost</td>\n",
       "      <td>Our newly renovated studio is located in the b...</td>\n",
       "      <td>Our guests will experience living with a local...</td>\n",
       "      <td>https://a0.muscache.com/pictures/23782972/1d3e...</td>\n",
       "      <td>153691</td>\n",
       "      <td>https://www.airbnb.com/users/show/153691</td>\n",
       "      <td>...</td>\n",
       "      <td>10.0</td>\n",
       "      <td>10.0</td>\n",
       "      <td>10.0</td>\n",
       "      <td>NaN</td>\n",
       "      <td>f</td>\n",
       "      <td>1</td>\n",
       "      <td>1</td>\n",
       "      <td>0</td>\n",
       "      <td>0</td>\n",
       "      <td>2.78</td>\n",
       "    </tr>\n",
       "    <tr>\n",
       "      <th>4</th>\n",
       "      <td>41198</td>\n",
       "      <td>https://www.airbnb.com/rooms/41198</td>\n",
       "      <td>20201223235510</td>\n",
       "      <td>2020-12-24</td>\n",
       "      <td>Modern 2bed,Top end of Copacabana</td>\n",
       "      <td>&lt;b&gt;The space&lt;/b&gt;&lt;br /&gt;Stay in this, Modern,cle...</td>\n",
       "      <td>NaN</td>\n",
       "      <td>https://a0.muscache.com/pictures/3576716/2d6a9...</td>\n",
       "      <td>178975</td>\n",
       "      <td>https://www.airbnb.com/users/show/178975</td>\n",
       "      <td>...</td>\n",
       "      <td>9.0</td>\n",
       "      <td>9.0</td>\n",
       "      <td>9.0</td>\n",
       "      <td>NaN</td>\n",
       "      <td>f</td>\n",
       "      <td>2</td>\n",
       "      <td>2</td>\n",
       "      <td>0</td>\n",
       "      <td>0</td>\n",
       "      <td>0.19</td>\n",
       "    </tr>\n",
       "  </tbody>\n",
       "</table>\n",
       "<p>5 rows × 74 columns</p>\n",
       "</div>"
      ],
      "text/plain": [
       "      id                         listing_url       scrape_id last_scraped  \\\n",
       "0  17878  https://www.airbnb.com/rooms/17878  20201223235510   2020-12-30   \n",
       "1  25026  https://www.airbnb.com/rooms/25026  20201223235510   2020-12-24   \n",
       "2  35636  https://www.airbnb.com/rooms/35636  20201223235510   2020-12-24   \n",
       "3  35764  https://www.airbnb.com/rooms/35764  20201223235510   2020-12-24   \n",
       "4  41198  https://www.airbnb.com/rooms/41198  20201223235510   2020-12-24   \n",
       "\n",
       "                                                name  \\\n",
       "0  Very Nice 2Br in Copacabana w. balcony, fast WiFi   \n",
       "1          Beautiful Modern Decorated Studio in Copa   \n",
       "2                   Cosy flat close to Ipanema beach   \n",
       "3     COPACABANA SEA BREEZE  -  RIO - 20 X Superhost   \n",
       "4                  Modern 2bed,Top end of Copacabana   \n",
       "\n",
       "                                         description  \\\n",
       "0  Discounts for long term stays. <br />- Large b...   \n",
       "1  Our apartment is a little gem, everyone loves ...   \n",
       "2  This cosy apartment  is just a few steps away ...   \n",
       "3  Our newly renovated studio is located in the b...   \n",
       "4  <b>The space</b><br />Stay in this, Modern,cle...   \n",
       "\n",
       "                               neighborhood_overview  \\\n",
       "0  This is the one of the bests spots in Rio. Bec...   \n",
       "1  Copacabana is a lively neighborhood and the ap...   \n",
       "2  The  apartment street is very quiet and safe ....   \n",
       "3  Our guests will experience living with a local...   \n",
       "4                                                NaN   \n",
       "\n",
       "                                         picture_url  host_id  \\\n",
       "0  https://a0.muscache.com/pictures/65320518/3069...    68997   \n",
       "1  https://a0.muscache.com/pictures/3003965/68ebb...  3746246   \n",
       "2  https://a0.muscache.com/pictures/20009355/38b6...   153232   \n",
       "3  https://a0.muscache.com/pictures/23782972/1d3e...   153691   \n",
       "4  https://a0.muscache.com/pictures/3576716/2d6a9...   178975   \n",
       "\n",
       "                                    host_url  ... review_scores_communication  \\\n",
       "0    https://www.airbnb.com/users/show/68997  ...                        10.0   \n",
       "1  https://www.airbnb.com/users/show/3746246  ...                        10.0   \n",
       "2   https://www.airbnb.com/users/show/153232  ...                        10.0   \n",
       "3   https://www.airbnb.com/users/show/153691  ...                        10.0   \n",
       "4   https://www.airbnb.com/users/show/178975  ...                         9.0   \n",
       "\n",
       "  review_scores_location review_scores_value license instant_bookable  \\\n",
       "0                   10.0                 9.0     NaN                t   \n",
       "1                   10.0                 9.0     NaN                f   \n",
       "2                   10.0                 9.0     NaN                f   \n",
       "3                   10.0                10.0     NaN                f   \n",
       "4                    9.0                 9.0     NaN                f   \n",
       "\n",
       "  calculated_host_listings_count calculated_host_listings_count_entire_homes  \\\n",
       "0                              1                                           1   \n",
       "1                             11                                          11   \n",
       "2                              1                                           1   \n",
       "3                              1                                           1   \n",
       "4                              2                                           2   \n",
       "\n",
       "  calculated_host_listings_count_private_rooms  \\\n",
       "0                                            0   \n",
       "1                                            0   \n",
       "2                                            0   \n",
       "3                                            0   \n",
       "4                                            0   \n",
       "\n",
       "  calculated_host_listings_count_shared_rooms reviews_per_month  \n",
       "0                                           0              2.03  \n",
       "1                                           0              1.85  \n",
       "2                                           0              2.07  \n",
       "3                                           0              2.78  \n",
       "4                                           0              0.19  \n",
       "\n",
       "[5 rows x 74 columns]"
      ]
     },
     "execution_count": 4,
     "metadata": {},
     "output_type": "execute_result"
    }
   ],
   "source": [
    "listings.head()"
   ]
  },
  {
   "cell_type": "code",
   "execution_count": 5,
   "metadata": {},
   "outputs": [
    {
     "data": {
      "text/html": [
       "<div>\n",
       "<style scoped>\n",
       "    .dataframe tbody tr th:only-of-type {\n",
       "        vertical-align: middle;\n",
       "    }\n",
       "\n",
       "    .dataframe tbody tr th {\n",
       "        vertical-align: top;\n",
       "    }\n",
       "\n",
       "    .dataframe thead th {\n",
       "        text-align: right;\n",
       "    }\n",
       "</style>\n",
       "<table border=\"1\" class=\"dataframe\">\n",
       "  <thead>\n",
       "    <tr style=\"text-align: right;\">\n",
       "      <th></th>\n",
       "      <th>listing_id</th>\n",
       "      <th>id</th>\n",
       "      <th>date</th>\n",
       "      <th>reviewer_id</th>\n",
       "      <th>reviewer_name</th>\n",
       "      <th>comments</th>\n",
       "    </tr>\n",
       "  </thead>\n",
       "  <tbody>\n",
       "    <tr>\n",
       "      <th>0</th>\n",
       "      <td>17878</td>\n",
       "      <td>64852</td>\n",
       "      <td>2010-07-15</td>\n",
       "      <td>135370</td>\n",
       "      <td>Tia</td>\n",
       "      <td>This apartment is in a perfect location -- two...</td>\n",
       "    </tr>\n",
       "    <tr>\n",
       "      <th>1</th>\n",
       "      <td>17878</td>\n",
       "      <td>76744</td>\n",
       "      <td>2010-08-11</td>\n",
       "      <td>10206</td>\n",
       "      <td>Mimi</td>\n",
       "      <td>we had a really great experience staying in Ma...</td>\n",
       "    </tr>\n",
       "    <tr>\n",
       "      <th>2</th>\n",
       "      <td>17878</td>\n",
       "      <td>91074</td>\n",
       "      <td>2010-09-06</td>\n",
       "      <td>80253</td>\n",
       "      <td>Jan</td>\n",
       "      <td>Staying in Max appartment is like living in a ...</td>\n",
       "    </tr>\n",
       "    <tr>\n",
       "      <th>3</th>\n",
       "      <td>17878</td>\n",
       "      <td>137528</td>\n",
       "      <td>2010-11-12</td>\n",
       "      <td>230449</td>\n",
       "      <td>Orene</td>\n",
       "      <td>In general very good and reasonable price.\\r\\n...</td>\n",
       "    </tr>\n",
       "    <tr>\n",
       "      <th>4</th>\n",
       "      <td>17878</td>\n",
       "      <td>147594</td>\n",
       "      <td>2010-12-01</td>\n",
       "      <td>219338</td>\n",
       "      <td>David</td>\n",
       "      <td>The apt was nice and in a great location only ...</td>\n",
       "    </tr>\n",
       "  </tbody>\n",
       "</table>\n",
       "</div>"
      ],
      "text/plain": [
       "   listing_id      id        date  reviewer_id reviewer_name  \\\n",
       "0       17878   64852  2010-07-15       135370           Tia   \n",
       "1       17878   76744  2010-08-11        10206          Mimi   \n",
       "2       17878   91074  2010-09-06        80253           Jan   \n",
       "3       17878  137528  2010-11-12       230449         Orene   \n",
       "4       17878  147594  2010-12-01       219338         David   \n",
       "\n",
       "                                            comments  \n",
       "0  This apartment is in a perfect location -- two...  \n",
       "1  we had a really great experience staying in Ma...  \n",
       "2  Staying in Max appartment is like living in a ...  \n",
       "3  In general very good and reasonable price.\\r\\n...  \n",
       "4  The apt was nice and in a great location only ...  "
      ]
     },
     "execution_count": 5,
     "metadata": {},
     "output_type": "execute_result"
    }
   ],
   "source": [
    "reviews.head()"
   ]
  },
  {
   "cell_type": "code",
   "execution_count": 6,
   "metadata": {},
   "outputs": [
    {
     "data": {
      "text/html": [
       "<div>\n",
       "<style scoped>\n",
       "    .dataframe tbody tr th:only-of-type {\n",
       "        vertical-align: middle;\n",
       "    }\n",
       "\n",
       "    .dataframe tbody tr th {\n",
       "        vertical-align: top;\n",
       "    }\n",
       "\n",
       "    .dataframe thead th {\n",
       "        text-align: right;\n",
       "    }\n",
       "</style>\n",
       "<table border=\"1\" class=\"dataframe\">\n",
       "  <thead>\n",
       "    <tr style=\"text-align: right;\">\n",
       "      <th></th>\n",
       "      <th>listing_id</th>\n",
       "      <th>date</th>\n",
       "      <th>available</th>\n",
       "      <th>price</th>\n",
       "      <th>adjusted_price</th>\n",
       "      <th>minimum_nights</th>\n",
       "      <th>maximum_nights</th>\n",
       "    </tr>\n",
       "  </thead>\n",
       "  <tbody>\n",
       "    <tr>\n",
       "      <th>0</th>\n",
       "      <td>47173622</td>\n",
       "      <td>2020-12-24</td>\n",
       "      <td>f</td>\n",
       "      <td>$499.00</td>\n",
       "      <td>$499.00</td>\n",
       "      <td>1</td>\n",
       "      <td>1125</td>\n",
       "    </tr>\n",
       "    <tr>\n",
       "      <th>1</th>\n",
       "      <td>47173622</td>\n",
       "      <td>2020-12-25</td>\n",
       "      <td>t</td>\n",
       "      <td>$499.00</td>\n",
       "      <td>$499.00</td>\n",
       "      <td>1</td>\n",
       "      <td>1125</td>\n",
       "    </tr>\n",
       "    <tr>\n",
       "      <th>2</th>\n",
       "      <td>47173622</td>\n",
       "      <td>2020-12-26</td>\n",
       "      <td>t</td>\n",
       "      <td>$499.00</td>\n",
       "      <td>$499.00</td>\n",
       "      <td>1</td>\n",
       "      <td>1125</td>\n",
       "    </tr>\n",
       "    <tr>\n",
       "      <th>3</th>\n",
       "      <td>47173622</td>\n",
       "      <td>2020-12-27</td>\n",
       "      <td>t</td>\n",
       "      <td>$499.00</td>\n",
       "      <td>$499.00</td>\n",
       "      <td>1</td>\n",
       "      <td>1125</td>\n",
       "    </tr>\n",
       "    <tr>\n",
       "      <th>4</th>\n",
       "      <td>47173622</td>\n",
       "      <td>2020-12-28</td>\n",
       "      <td>t</td>\n",
       "      <td>$499.00</td>\n",
       "      <td>$499.00</td>\n",
       "      <td>1</td>\n",
       "      <td>1125</td>\n",
       "    </tr>\n",
       "  </tbody>\n",
       "</table>\n",
       "</div>"
      ],
      "text/plain": [
       "   listing_id        date available    price adjusted_price  minimum_nights  \\\n",
       "0    47173622  2020-12-24         f  $499.00        $499.00               1   \n",
       "1    47173622  2020-12-25         t  $499.00        $499.00               1   \n",
       "2    47173622  2020-12-26         t  $499.00        $499.00               1   \n",
       "3    47173622  2020-12-27         t  $499.00        $499.00               1   \n",
       "4    47173622  2020-12-28         t  $499.00        $499.00               1   \n",
       "\n",
       "   maximum_nights  \n",
       "0            1125  \n",
       "1            1125  \n",
       "2            1125  \n",
       "3            1125  \n",
       "4            1125  "
      ]
     },
     "execution_count": 6,
     "metadata": {},
     "output_type": "execute_result"
    }
   ],
   "source": [
    "calendar.head()"
   ]
  },
  {
   "cell_type": "markdown",
   "metadata": {},
   "source": [
    "# Limpeza inicial"
   ]
  },
  {
   "cell_type": "markdown",
   "metadata": {},
   "source": [
    "Para iniciar nossa análise, podemos primeiramente verificar que existem colunas com f e t, significando True or False. Podemos então substituir f e t por 0 e 1."
   ]
  },
  {
   "cell_type": "code",
   "execution_count": 7,
   "metadata": {},
   "outputs": [],
   "source": [
    "calendar.replace({'f': 0, 't':1}, inplace=True)\n",
    "listings.replace({'f': 0, 't':1}, inplace=True)\n",
    "reviews.replace({'f': 0, 't':1}, inplace=True)"
   ]
  },
  {
   "cell_type": "markdown",
   "metadata": {},
   "source": [
    "Vamos também limpar o nosso target. Sabemos que o target é o preço das acomodações, assim:"
   ]
  },
  {
   "cell_type": "code",
   "execution_count": 8,
   "metadata": {},
   "outputs": [
    {
     "data": {
      "text/plain": [
       "0          $500.00\n",
       "1          $160.00\n",
       "2          $259.00\n",
       "3          $157.00\n",
       "4        $1,035.00\n",
       "           ...    \n",
       "25779    $5,800.00\n",
       "25780      $195.00\n",
       "25781      $650.00\n",
       "25782    $1,500.00\n",
       "25783      $449.00\n",
       "Name: price, Length: 25784, dtype: object"
      ]
     },
     "execution_count": 8,
     "metadata": {},
     "output_type": "execute_result"
    }
   ],
   "source": [
    "listings['price']"
   ]
  },
  {
   "cell_type": "markdown",
   "metadata": {},
   "source": [
    "Como é possível ver nosso target está como string. Vamos remover o sinal de $ e tranformar em float"
   ]
  },
  {
   "cell_type": "code",
   "execution_count": 9,
   "metadata": {},
   "outputs": [],
   "source": [
    "listings['price'] = listings['price'].replace('[\\$,)]', '', regex=True).astype(float)"
   ]
  },
  {
   "cell_type": "markdown",
   "metadata": {},
   "source": [
    "Checando todas as colunas de listings"
   ]
  },
  {
   "cell_type": "code",
   "execution_count": 10,
   "metadata": {},
   "outputs": [
    {
     "data": {
      "text/plain": [
       "Index(['id', 'listing_url', 'scrape_id', 'last_scraped', 'name', 'description',\n",
       "       'neighborhood_overview', 'picture_url', 'host_id', 'host_url',\n",
       "       'host_name', 'host_since', 'host_location', 'host_about',\n",
       "       'host_response_time', 'host_response_rate', 'host_acceptance_rate',\n",
       "       'host_is_superhost', 'host_thumbnail_url', 'host_picture_url',\n",
       "       'host_neighbourhood', 'host_listings_count',\n",
       "       'host_total_listings_count', 'host_verifications',\n",
       "       'host_has_profile_pic', 'host_identity_verified', 'neighbourhood',\n",
       "       'neighbourhood_cleansed', 'neighbourhood_group_cleansed', 'latitude',\n",
       "       'longitude', 'property_type', 'room_type', 'accommodates', 'bathrooms',\n",
       "       'bathrooms_text', 'bedrooms', 'beds', 'amenities', 'price',\n",
       "       'minimum_nights', 'maximum_nights', 'minimum_minimum_nights',\n",
       "       'maximum_minimum_nights', 'minimum_maximum_nights',\n",
       "       'maximum_maximum_nights', 'minimum_nights_avg_ntm',\n",
       "       'maximum_nights_avg_ntm', 'calendar_updated', 'has_availability',\n",
       "       'availability_30', 'availability_60', 'availability_90',\n",
       "       'availability_365', 'calendar_last_scraped', 'number_of_reviews',\n",
       "       'number_of_reviews_ltm', 'number_of_reviews_l30d', 'first_review',\n",
       "       'last_review', 'review_scores_rating', 'review_scores_accuracy',\n",
       "       'review_scores_cleanliness', 'review_scores_checkin',\n",
       "       'review_scores_communication', 'review_scores_location',\n",
       "       'review_scores_value', 'license', 'instant_bookable',\n",
       "       'calculated_host_listings_count',\n",
       "       'calculated_host_listings_count_entire_homes',\n",
       "       'calculated_host_listings_count_private_rooms',\n",
       "       'calculated_host_listings_count_shared_rooms', 'reviews_per_month'],\n",
       "      dtype='object')"
      ]
     },
     "execution_count": 10,
     "metadata": {},
     "output_type": "execute_result"
    }
   ],
   "source": [
    "listings.columns"
   ]
  },
  {
   "cell_type": "code",
   "execution_count": 11,
   "metadata": {},
   "outputs": [
    {
     "name": "stdout",
     "output_type": "stream",
     "text": [
      "<class 'pandas.core.frame.DataFrame'>\n",
      "RangeIndex: 25784 entries, 0 to 25783\n",
      "Data columns (total 74 columns):\n",
      " #   Column                                        Non-Null Count  Dtype  \n",
      "---  ------                                        --------------  -----  \n",
      " 0   id                                            25784 non-null  int64  \n",
      " 1   listing_url                                   25784 non-null  object \n",
      " 2   scrape_id                                     25784 non-null  int64  \n",
      " 3   last_scraped                                  25784 non-null  object \n",
      " 4   name                                          25755 non-null  object \n",
      " 5   description                                   24423 non-null  object \n",
      " 6   neighborhood_overview                         14109 non-null  object \n",
      " 7   picture_url                                   25784 non-null  object \n",
      " 8   host_id                                       25784 non-null  int64  \n",
      " 9   host_url                                      25784 non-null  object \n",
      " 10  host_name                                     25776 non-null  object \n",
      " 11  host_since                                    25776 non-null  object \n",
      " 12  host_location                                 25692 non-null  object \n",
      " 13  host_about                                    12758 non-null  object \n",
      " 14  host_response_time                            19372 non-null  object \n",
      " 15  host_response_rate                            19372 non-null  object \n",
      " 16  host_acceptance_rate                          18700 non-null  object \n",
      " 17  host_is_superhost                             25776 non-null  float64\n",
      " 18  host_thumbnail_url                            25776 non-null  object \n",
      " 19  host_picture_url                              25776 non-null  object \n",
      " 20  host_neighbourhood                            15058 non-null  object \n",
      " 21  host_listings_count                           25776 non-null  float64\n",
      " 22  host_total_listings_count                     25776 non-null  float64\n",
      " 23  host_verifications                            25784 non-null  object \n",
      " 24  host_has_profile_pic                          25776 non-null  float64\n",
      " 25  host_identity_verified                        25776 non-null  float64\n",
      " 26  neighbourhood                                 14109 non-null  object \n",
      " 27  neighbourhood_cleansed                        25784 non-null  object \n",
      " 28  neighbourhood_group_cleansed                  0 non-null      float64\n",
      " 29  latitude                                      25784 non-null  float64\n",
      " 30  longitude                                     25784 non-null  float64\n",
      " 31  property_type                                 25784 non-null  object \n",
      " 32  room_type                                     25784 non-null  object \n",
      " 33  accommodates                                  25784 non-null  int64  \n",
      " 34  bathrooms                                     0 non-null      float64\n",
      " 35  bathrooms_text                                25714 non-null  object \n",
      " 36  bedrooms                                      24058 non-null  float64\n",
      " 37  beds                                          25546 non-null  float64\n",
      " 38  amenities                                     25784 non-null  object \n",
      " 39  price                                         25784 non-null  float64\n",
      " 40  minimum_nights                                25784 non-null  int64  \n",
      " 41  maximum_nights                                25784 non-null  int64  \n",
      " 42  minimum_minimum_nights                        25784 non-null  int64  \n",
      " 43  maximum_minimum_nights                        25784 non-null  int64  \n",
      " 44  minimum_maximum_nights                        25784 non-null  int64  \n",
      " 45  maximum_maximum_nights                        25784 non-null  int64  \n",
      " 46  minimum_nights_avg_ntm                        25784 non-null  float64\n",
      " 47  maximum_nights_avg_ntm                        25784 non-null  float64\n",
      " 48  calendar_updated                              0 non-null      float64\n",
      " 49  has_availability                              25784 non-null  int64  \n",
      " 50  availability_30                               25784 non-null  int64  \n",
      " 51  availability_60                               25784 non-null  int64  \n",
      " 52  availability_90                               25784 non-null  int64  \n",
      " 53  availability_365                              25784 non-null  int64  \n",
      " 54  calendar_last_scraped                         25784 non-null  object \n",
      " 55  number_of_reviews                             25784 non-null  int64  \n",
      " 56  number_of_reviews_ltm                         25784 non-null  int64  \n",
      " 57  number_of_reviews_l30d                        25784 non-null  int64  \n",
      " 58  first_review                                  15852 non-null  object \n",
      " 59  last_review                                   15852 non-null  object \n",
      " 60  review_scores_rating                          15302 non-null  float64\n",
      " 61  review_scores_accuracy                        15288 non-null  float64\n",
      " 62  review_scores_cleanliness                     15291 non-null  float64\n",
      " 63  review_scores_checkin                         15289 non-null  float64\n",
      " 64  review_scores_communication                   15294 non-null  float64\n",
      " 65  review_scores_location                        15289 non-null  float64\n",
      " 66  review_scores_value                           15291 non-null  float64\n",
      " 67  license                                       0 non-null      float64\n",
      " 68  instant_bookable                              25784 non-null  int64  \n",
      " 69  calculated_host_listings_count                25784 non-null  int64  \n",
      " 70  calculated_host_listings_count_entire_homes   25784 non-null  int64  \n",
      " 71  calculated_host_listings_count_private_rooms  25784 non-null  int64  \n",
      " 72  calculated_host_listings_count_shared_rooms   25784 non-null  int64  \n",
      " 73  reviews_per_month                             15852 non-null  float64\n",
      "dtypes: float64(24), int64(23), object(27)\n",
      "memory usage: 14.6+ MB\n"
     ]
    }
   ],
   "source": [
    "# checando informações sobre os atributos\n",
    "listings.info()"
   ]
  },
  {
   "cell_type": "markdown",
   "metadata": {},
   "source": [
    "Checando se existem localizações diferentes do rio de janeiro"
   ]
  },
  {
   "cell_type": "code",
   "execution_count": 12,
   "metadata": {},
   "outputs": [
    {
     "data": {
      "text/plain": [
       "array(['Rio de Janeiro, Brazil', nan, 'Rio, Rio de Janeiro, Brazil',\n",
       "       'Copacabana, Rio de Janeiro, Brazil',\n",
       "       'Rio de janeiro , Rio de Janeiro, Brazil',\n",
       "       'Barra da Tijuca, Rio de Janeiro, Brazil',\n",
       "       'Itanhangá, Rio de Janeiro, Brazil',\n",
       "       'Santa Teresa, Rio de Janeiro, Brazil',\n",
       "       'Ipanema, Rio de Janeiro, Brazil', 'Rio de Janeiro, Rj, Brazil',\n",
       "       'Rio de Janeiro , Rio de Janeiro, Brazil',\n",
       "       'Rio de Janeiro, Rio De Janeiro, Brazil',\n",
       "       'Jacarepagua, Rio de Janeiro, Brazil',\n",
       "       'Rio de Janeiro / Copacabana , Rio de Janeiro, Brazil',\n",
       "       'Urca, Rio de Janeiro, Brazil', 'Rio De Janeiro, Rj, Brazil',\n",
       "       'Rio de Janeiro, Recreio dos bandeirantes, Brazil',\n",
       "       'RJ, Rio de Janeiro, Brazil', 'Rio de Janeiro, Copacabana, Brazil',\n",
       "       'Rio de Janeiro, État de Rio de Janeiro, Brazil',\n",
       "       'Laranjeiras, Rio de Janeiro, Brazil', 'Rio De Janeiro, Brazil',\n",
       "       'Centro, Rio de Janeiro, Brazil',\n",
       "       'Rio de Janeiro -IPANEMA, Rio de Janeiro, Brazil',\n",
       "       'Edifício ALONE Bairro: Copacabana, Brazil',\n",
       "       'Copacabana, Rio de Janeiro , Rio de Janeiro, Brazil',\n",
       "       'Rio de Janeiro, Ipanema, Brazil',\n",
       "       'Rio de Janeiro, Brazil, Brazil', 'Rio, Brazil, Brazil',\n",
       "       'Rio de Janeiro, Rio de Janeiro brasil, Brazil',\n",
       "       'Rio de Janeiro, Rio de  Janeiro, Brazil',\n",
       "       'Leme, Rio de Janeiro, Brazil',\n",
       "       'Rio, État de Rio de Janeiro, Brazil', 'Rj, Brazil',\n",
       "       'Flamengo, Rio de Janeiro, Brazil',\n",
       "       'São Conrado, Rio de Janeiro, Brazil',\n",
       "       'Santa Tereza, Rio de Janeiro, Brazil',\n",
       "       'Rio de Janeiro, Barra da Tijuca, Brazil',\n",
       "       'Ipanema, Rio de Janeiro, Rio de Janeiro, Brazil',\n",
       "       ' Rio de Janeiro, Rio de Janeiro, Brazil',\n",
       "       'Leblon, Rio de Janeiro, Brazil',\n",
       "       'Rio - Grajaú, Rio de Janeiro, Brazil',\n",
       "       'Maracanã, Rio de Janeiro, Brazil', 'Rio de Janeiro, Leme, Brazil',\n",
       "       'Rio de Janeiro, Copacabana, Rio de Janeiro, Brazil',\n",
       "       'Rio Ipanema, Rio de Janeiro, Brazil',\n",
       "       'Botafogo, Rio de Janeiro, Brazil',\n",
       "       'Rio de janeiro, bairro tijuca, Rio de Janeiro, Brazil',\n",
       "       'Rio de janeiro, Rio de Janeiro, Brazil',\n",
       "       'rio de janeiro, Rio de Janeiro, Brazil',\n",
       "       'Vargem Pequena, Rio de Janeiro, Brazil',\n",
       "       'Pechincha, Jacarepagua, Rio de Janeiro, Rio de Janeiro, Brazil',\n",
       "       'Río de Janeiro, Estado de Río de Janeiro, Brazil',\n",
       "       'RIO DE JANEIRO, Rio de Janeiro, Brazil',\n",
       "       'Glória, Rio de Janeiro, Brazil',\n",
       "       'CopaCabana, Rio de Janeiro, Brazil',\n",
       "       'Copacabana, Rio de Janeiro, RJ, Rio de Janeiro, Brazil',\n",
       "       'Rio De Janeiro, Rio de Janeiro, Brazil',\n",
       "       'Ipanema, Rio, Rio de Janeiro, Brazil',\n",
       "       'Rio de Janeiro, Leblon, Brazil',\n",
       "       'Terreirão, Recreio dos Bandeirantes , Rio de Janeiro, Brazil',\n",
       "       'Araruama , Rio de Janeiro, Brazil',\n",
       "       'Tijuca, Rio de Janeiro, Brazil',\n",
       "       'Gavea -Rio de Janeiro, Rio de Janeiro, Brazil',\n",
       "       'Ipanema - Rio de Janeiro, Rio de Janeiro, Brazil',\n",
       "       'Rio de Janeiro - Copacabana, Rio de Janeiro, Brazil',\n",
       "       'cabo frio, Rio de Janeiro, Brazil',\n",
       "       'Rio de Janeiro,, Rio de Janeiro, Brazil',\n",
       "       'Rio de Janeiro, Copacabana - Rio de Janeiro, Brazil',\n",
       "       'Recreio dos Bandeirantes, Rio de Janeiro, Brazil',\n",
       "       'Copacabana - Rio de Janeiro, Rio de Janeiro, Brazil',\n",
       "       'São Paulo, Brazil', 'Rio de janeiro , Rio de janeiro, Brazil',\n",
       "       'Leblon, Rio De Janeiro, Brazil',\n",
       "       'Copacabana, RJ, Rio de Janeiro, Brazil',\n",
       "       'Vargem Grande, Rio de Janeiro, Brazil',\n",
       "       'Vargem Pequena , Rio de Janeiro, Brazil',\n",
       "       'Recreio dos Bandeirantes, Rio de Janeiro/ RJ, Brazil',\n",
       "       'Araras, Rio de Janeiro, Rio de Janeiro, Brazil',\n",
       "       'Flamengo Rio de Janeiro, Flamengo, Brazil',\n",
       "       'Campinho, Rio de Janeiro, Brazil',\n",
       "       'Leblon, Bairro Leblon, Brazil',\n",
       "       'Río de Janeiro, Rio de Janeiro, Brazil',\n",
       "       'Ramos, Rio de Janeiro, Brazil',\n",
       "       'Barra da Tijuca , Rio de Janeiro, Brazil',\n",
       "       'Jardim Botânico, Rio de Janeiro, Brazil',\n",
       "       'Rio de Janeiro, R.J., Brazil', 'Recreio, Rio de Janeiro, Brazil',\n",
       "       'Flamengo , Rio de Janeiro, Brazil',\n",
       "       'Engenho de Dentro , Rio de Janeiro, Brazil',\n",
       "       'Ilha de Paquetá, Rio de Janeiro, Brazil',\n",
       "       'Rio de Janeiro , Rj, Brazil', 'Rio de janeiro, Rj, Brazil',\n",
       "       'Estácio, Rio de Janeiro, Brazil',\n",
       "       'rio de Janeiro , Rio de Janeiro, Brazil',\n",
       "       'Rio de Janeiro, Rio de Janeiro, BR, Rio de Janeiro, Brazil',\n",
       "       'Jacarepaguá, Rio de Janeiro, Brazil',\n",
       "       'Rio de Janeiro, Rio de Janeiro, BR, rj, Brazil',\n",
       "       'Rio de Janeiro, Jacarepaguá, Brazil',\n",
       "       'Rio de Janeiro, Rio de Janeiro, BR, Recreio dos Bandeirantes, Brazil',\n",
       "       'Rio de janeiro, rj, Brazil', 'Guadalupe, Rio de Janeiro, Brazil',\n",
       "       'Gardênia Azul, Rio de Janeiro, Brazil',\n",
       "       'Recreio dos Bandeirantes - RJ., Rio de Janeiro, Brazil',\n",
       "       'Sepetiba, Rio de Janeiro, Brazil',\n",
       "       'Copacabana,Rio de Janeiro, Rio de Janeiro, Brazil',\n",
       "       'Tijuca, Rio de Janeiro, Rio de Janeiro, Brazil',\n",
       "       'Madureira, Rio de Janeiro, Brazil',\n",
       "       'rio de janeiro , Rio de Janeiro, Brazil',\n",
       "       'Curicica, Rio de Janeiro, Brazil',\n",
       "       'Rio de Janriro, Rio de Janeiro, Brazil',\n",
       "       'Barra de Guaratiba, RJ, rio de janeiro, Brazil',\n",
       "       'Rio de janeiro centro, Lapa, Rio de Janeiro, Brazil',\n",
       "       'Rio de Janeiro / Rocinha, Rio de Janeiro, Brazil',\n",
       "       'Copacabana, Rio de Janeiro, Rio de Janeiro, Brazil',\n",
       "       'Copacabana, Rio de janeiro, Brazil',\n",
       "       'Copacabana , Rio de Janeiro, Brazil',\n",
       "       'Rio de Janeiro, Rio de Janeiro, BR, Rio de janeiro, Brazil',\n",
       "       'Irajá, Rio de Janeiro, Brazil',\n",
       "       'Guaratiba, Rio de Janeiro, Brazil',\n",
       "       'rio de janeiro, Rio De Janeiro, Brazil',\n",
       "       'rio de Janeiro \\nrio de Janeiro , Rio de Janeiro, Brazil',\n",
       "       'Tauá, Rio de Janeiro, Brazil', 'Catete, Rio de Janeiro, Brazil',\n",
       "       'Lapa, Rio de Janeiro, Brazil', 'Grajau, Rio de Janeiro, Brazil',\n",
       "       'Rio de , Rio de Janeiro, Brazil', 'Centro, Brazil',\n",
       "       'Camorim, Rio de Janeiro, Brazil', 'Lagoa, Rio de Janeiro, Brazil',\n",
       "       'Vila Isabel, Rio de Janeiro, Brazil',\n",
       "       'Alto da Boa Vista, Rio de Janeiro, Brazil',\n",
       "       'Vila Valqueire, Rio de Janeiro, Brazil',\n",
       "       'Cosmos, Rio de Janeiro, Brazil', 'Gávea, Rio de Janeiro, Brazil',\n",
       "       'Joá, Rio de Janeiro, Brazil', 'Ribeira, Rio de Janeiro, Brazil',\n",
       "       'Engenho Novo, Rio de Janeiro, Brazil',\n",
       "       'Sampaio, Rio de Janeiro, Brazil',\n",
       "       'Humaitá, Rio de Janeiro, Brazil',\n",
       "       'R. Bandeirantes, Rio de Janeiro, Brazil',\n",
       "       'Pechincha, Rio de Janeiro, Brazil',\n",
       "       'Maria da Graça, Rio de Janeiro, Brazil',\n",
       "       'Rio Comprido, Rio de Janeiro, Brazil',\n",
       "       'Campo Grande, Rio de Janeiro, Brazil',\n",
       "       'Cidade de Deus, Rio de Janeiro, Brazil',\n",
       "       'Esplanada do Cruzeiro, Rio de Janeiro, Brazil',\n",
       "       'Abolição, Rio de Janeiro, Brazil',\n",
       "       'Tanque, Rio de Janeiro, Brazil',\n",
       "       'Freguesia (Jacarepaguá), Rio de Janeiro, Brazil',\n",
       "       'Jardim Guanabara, Rio de Janeiro, Brazil',\n",
       "       'Taquara, Rio de Janeiro, Brazil',\n",
       "       'Cosme Velho, Rio de Janeiro, Brazil',\n",
       "       'Santa Cruz, Rio de Janeiro, Brazil',\n",
       "       'Bráz De Pina, Rio de Janeiro, Brazil',\n",
       "       'Vidigal, Rio de Janeiro, Brazil',\n",
       "       'Portuguesa, Rio de Janeiro, Brazil',\n",
       "       'Todos os Santos, Rio de Janeiro, Brazil',\n",
       "       'Rio de Janeiro, Rio de Janeiro, , Brasil, Brazil',\n",
       "       'São Cristóvão, Rio de Janeiro, Brazil',\n",
       "       'Praca da Bandeira, Rio de Janeiro, Brazil',\n",
       "       'Rocha, Rio de Janeiro, Brazil', 'Gloria, Rio de Janeiro, Brazil',\n",
       "       'Paciência, Rio de Janeiro, Brazil',\n",
       "       'Saúde, Rio de Janeiro, Brazil',\n",
       "       'Barra de Guaratiba, Rio de Janeiro, Brazil',\n",
       "       'Andarai, Rio de Janeiro, Brazil',\n",
       "       'Paquetá, Rio de Janeiro, Brazil',\n",
       "       'Água Santa, Rio de Janeiro, Brazil',\n",
       "       'Piedade, Rio de Janeiro, Brazil',\n",
       "       'Bonsucesso, Rio de Janeiro, Brazil',\n",
       "       'Vicente de Carvalh, Rio de Janeiro, Brazil',\n",
       "       'Padre Miguel, Rio de Janeiro, Brazil',\n",
       "       'Del Castilho, Rio de Janeiro, Brazil',\n",
       "       'Cidade Nova, Rio de Janeiro, Brazil',\n",
       "       'Mangueira, Rio de Janeiro, Brazil',\n",
       "       'Realengo, Rio de Janeiro, Brazil',\n",
       "       'Meier, Rio de Janeiro, Brazil',\n",
       "       'Pitangueiras, Rio de Janeiro, Brazil',\n",
       "       'Riachuelo, Rio de Janeiro, Brazil',\n",
       "       'Freguesia (Ilha do Governador), Rio de Janeiro, Brazil',\n",
       "       ' COPACABANA- Rio de Janeiro , Rio de Janeiro, Brazil',\n",
       "       'Anil, Rio de Janeiro, Brazil',\n",
       "       'Pedra de Guaratiba, Rio de Janeiro, Brazil',\n",
       "       'Santo Cristo, Rio de Janeiro, Brazil',\n",
       "       'Pilares, Rio de Janeiro, Brazil',\n",
       "       'Gambôa, Rio de Janeiro, Brazil',\n",
       "       'Copacaban, Rio de Janeiro, Brazil',\n",
       "       'Rcr Bandeirantes, Rio de Janeiro, Brazil',\n",
       "       'Penha, Rio de Janeiro, Brazil',\n",
       "       'Cachambi, Rio de Janeiro, Brazil',\n",
       "       'Pc Bandeira, Rio de Janeiro, Brazil',\n",
       "       'Marechal Hermes, Rio de Janeiro, Brazil',\n",
       "       'Rocinha, Rio de Janeiro, Brazil',\n",
       "       'Recrio Dos Bandeirantes , Rio de Janeiro, Brazil',\n",
       "       'Río de Janeiro , Rio de Janeiro, Brazil',\n",
       "       'Recreio dos Bandeirantes - RJ, Rio de Janeiro, Brazil',\n",
       "       'Bento Ribeiro, Rio de Janeiro, Brazil',\n",
       "       'Cocotá, Rio de Janeiro, Brazil',\n",
       "       'Teresopolis, Rio de Janeiro, Brazil',\n",
       "       'São Francisco, Rio de Janeiro, Brazil',\n",
       "       'Vicente de Carvalho, Rio de Janeiro, Brazil',\n",
       "       'Guapimirim, Rio de Janeiro, Brazil',\n",
       "       'Gamboa, Rio de Janeiro, Brazil',\n",
       "       'Vila da Penha, Rio de Janeiro, Brazil',\n",
       "       'Praia de Guaratiba , Bahia, Brazil',\n",
       "       'Recreio Bandeirante, Rio de Janeiro, Brazil',\n",
       "       'Barros Filho, Rio de Janeiro, Brazil',\n",
       "       'Parada de Lucas, Rio de Janeiro, Brazil',\n",
       "       'Catumbi, Rio de Janeiro, Brazil',\n",
       "       'Senador Vasconcelos, Rio de Janeiro, Brazil',\n",
       "       'Manguinhos, Rio de Janeiro, Brazil',\n",
       "       'Cordovil, Rio de Janeiro, Brazil',\n",
       "       'Andaraí, Rio de Janeiro, Brazil',\n",
       "       'Brás de Pina, Rio de Janeiro, Brazil',\n",
       "       'Méier, Rio de Janeiro, Brazil',\n",
       "       'Bairro Botafogo, Rio de Janeiro, Brazil',\n",
       "       'Barra Guaratiba, Rio de Janeiro, Brazil',\n",
       "       'Caju, Rio de Janeiro, Brazil',\n",
       "       'Engenho de Dentro, Rio de Janeiro, Brazil',\n",
       "       'Barra da Tijuca, Rio de Janeiro, Rio de Janeiro, Brazil',\n",
       "       'Leblon, Rio de Janeiro, Rio de Janeiro, Brazil',\n",
       "       'Copacabana , RIo de Janeiro cep, Brazil',\n",
       "       'Freguesia de Jacarepaguá, Rio de Janeiro, Brazil',\n",
       "       'Rocha Miranda, Rio de Janeiro, Brazil',\n",
       "       'Barra da Tijuca, Rj, Brazil', 'Inhoaiba, Rio de Janeiro, Brazil',\n",
       "       'Praça Seca, Rio de Janeiro, Brazil',\n",
       "       'Jardim Sulacap, Rio de Janeiro, Brazil',\n",
       "       'Honório Gurgel, Rio de Janeiro, Brazil',\n",
       "       'Rj , Rio de Janeiro, Brazil', 'Rj, Rio de Janeiro, Brazil',\n",
       "       'Parque Anchieta, Rio de Janeiro, Brazil', 'Paraty, Brazil',\n",
       "       'Benfica, Rio de Janeiro, Brazil',\n",
       "       'Cascadura, Rio de Janeiro, Brazil',\n",
       "       'Bangu, Rio de Janeiro, Brazil', 'Copacabana, Goiás, Brazil',\n",
       "       'Gloria , Rio de Janeiro, Brazil',\n",
       "       'Bairro de Fátima, Rio de Janeiro, Brazil',\n",
       "       'Olaria, Rio de Janeiro, Brazil', 'Paraty, Rio de Janeiro, Brazil',\n",
       "       'Botafogo , Rio de Janeiro, Brazil',\n",
       "       'Recreio dos Bandeirantes - Rio de Janeiro , Rio de Janeiro, Brazil',\n",
       "       'Recreio dos Bandeir, Rio de Janeiro, Brazil',\n",
       "       'Recreio dos Bandeirante, Rio de Janeiro, Brazil',\n",
       "       'Pavuna, Rio de Janeiro, Brazil',\n",
       "       'Anchieta, Rio de Janeiro, Brazil',\n",
       "       'V Carvalho, Rio de Janeiro, Brazil',\n",
       "       'Rio de Janeiro , Brazil, Brazil',\n",
       "       'Senador Camará, Rio de Janeiro, Brazil',\n",
       "       'Coelho Neto, Rio de Janeiro, Brazil',\n",
       "       'Barra da Tijuca, Rio Grande do Sul, Brazil',\n",
       "       'Vasco da Gama, Rio de Janeiro, Brazil', 'Botafogo , Rj, Brazil',\n",
       "       'Cabo Frio, Rio de Janeiro, Brazil',\n",
       "       'Mury, Rio de Janeiro, Brazil',\n",
       "       'Rio de Janeieo, Rio de Janeiro, Brazil',\n",
       "       'Ricardo de Albuquerque, Rio de Janeiro, Brazil',\n",
       "       'Vila Militar, Rio de Janeiro, Brazil',\n",
       "       'Vista Alegre, Rio de Janeiro, Brazil',\n",
       "       'Cidade Universitária da Universidade Federal do Rio de Janeiro, Rio de Janeiro, Brazil',\n",
       "       'Magalhães Bastos, Rio de Janeiro, Brazil', 'Brazil',\n",
       "       'Inhoaíba, Rio de Janeiro, Brazil',\n",
       "       'São Francisco Xavier , São Paulo, Brazil',\n",
       "       'Santíssimo, Rio de Janeiro, Brazil',\n",
       "       'Copacabana/Leme, Rio de Janeiro, Brazil',\n",
       "       'Laranjeiras, Rio de Janeiro, RJ , Rio de Janeiro, Brazil',\n",
       "       'Lins de Vasconcelos, Rio de Janeiro, Brazil'], dtype=object)"
      ]
     },
     "execution_count": 12,
     "metadata": {},
     "output_type": "execute_result"
    }
   ],
   "source": [
    "listings['neighbourhood'].unique()"
   ]
  },
  {
   "cell_type": "code",
   "execution_count": 13,
   "metadata": {},
   "outputs": [],
   "source": [
    "listings['neighbourhood'].fillna('', inplace=True)\n",
    "listings = listings[listings['neighbourhood'].str.contains('Rio de Janeiro|rio de janeiro|Rio de janeiro')]"
   ]
  },
  {
   "cell_type": "markdown",
   "metadata": {},
   "source": [
    "Irei agora remover outliers baseado no preço e no desvio padrão. Meu objetivo aqui é tirar os dados mais difíceis de prever e os que são outliers. Irei utilizar a regra de 3 desvios padrões."
   ]
  },
  {
   "cell_type": "code",
   "execution_count": 14,
   "metadata": {},
   "outputs": [],
   "source": [
    "import scipy.stats as stats\n",
    "import numpy as np\n",
    "z_scores = stats.zscore(listings['price'])\n",
    "abs_z_scores = np.abs(z_scores)\n",
    "filtered_entries = (abs_z_scores < 3)\n",
    "listings = listings[filtered_entries]\n"
   ]
  },
  {
   "cell_type": "markdown",
   "metadata": {},
   "source": [
    "Vamos agora analisar a matriz de correlação dos dados, e selecionar aqueles atributos numéricos que possuirem correlação > 0.05 e < -0.05. A ideia aqui é remover os atributos numéricos que não tiverem nenhuma correlação com o preço. Vale salientar que 0.05 já é uma correlação muito baixa, e foi utilizado como limiar apenas como tentativa inicial"
   ]
  },
  {
   "cell_type": "code",
   "execution_count": 15,
   "metadata": {},
   "outputs": [
    {
     "data": {
      "text/plain": [
       "id                                             -7.669386e-02\n",
       "scrape_id                                       1.570093e-14\n",
       "host_id                                        -8.433253e-02\n",
       "host_is_superhost                              -4.105523e-02\n",
       "host_listings_count                             1.518348e-01\n",
       "host_total_listings_count                       1.518348e-01\n",
       "host_has_profile_pic                           -1.108436e-02\n",
       "host_identity_verified                          5.028743e-03\n",
       "neighbourhood_group_cleansed                             NaN\n",
       "latitude                                       -1.593262e-01\n",
       "longitude                                      -3.150661e-02\n",
       "accommodates                                    4.374517e-01\n",
       "bathrooms                                                NaN\n",
       "bedrooms                                        4.975682e-01\n",
       "beds                                            3.005610e-01\n",
       "price                                           1.000000e+00\n",
       "minimum_nights                                  5.196380e-03\n",
       "maximum_nights                                  4.509934e-02\n",
       "minimum_minimum_nights                          6.277876e-03\n",
       "maximum_minimum_nights                          8.157275e-03\n",
       "minimum_maximum_nights                          1.239440e-02\n",
       "maximum_maximum_nights                          1.099580e-02\n",
       "minimum_nights_avg_ntm                          6.186369e-03\n",
       "maximum_nights_avg_ntm                          1.078859e-02\n",
       "calendar_updated                                         NaN\n",
       "has_availability                               -3.623283e-02\n",
       "availability_30                                 9.174538e-02\n",
       "availability_60                                 8.282112e-02\n",
       "availability_90                                 7.330695e-02\n",
       "availability_365                                5.711616e-02\n",
       "number_of_reviews                              -7.151577e-02\n",
       "number_of_reviews_ltm                          -8.826129e-02\n",
       "number_of_reviews_l30d                         -6.752415e-02\n",
       "review_scores_rating                            1.614420e-03\n",
       "review_scores_accuracy                         -3.124127e-02\n",
       "review_scores_cleanliness                       2.389313e-03\n",
       "review_scores_checkin                          -1.156688e-02\n",
       "review_scores_communication                    -8.618124e-03\n",
       "review_scores_location                          5.557432e-03\n",
       "review_scores_value                            -7.451995e-02\n",
       "license                                                  NaN\n",
       "instant_bookable                               -5.261218e-02\n",
       "calculated_host_listings_count                  1.524763e-01\n",
       "calculated_host_listings_count_entire_homes     1.604201e-01\n",
       "calculated_host_listings_count_private_rooms   -4.273682e-02\n",
       "calculated_host_listings_count_shared_rooms    -5.656514e-02\n",
       "reviews_per_month                              -7.471645e-02\n",
       "Name: price, dtype: float64"
      ]
     },
     "execution_count": 15,
     "metadata": {},
     "output_type": "execute_result"
    }
   ],
   "source": [
    "listings.corr()['price']"
   ]
  },
  {
   "cell_type": "markdown",
   "metadata": {},
   "source": [
    "Os valores de correlação estão razoávelmente baixos para todos os atributos numéricos. Isso indica que nenhuma variável sozinha possui um grande poder preditivo."
   ]
  },
  {
   "cell_type": "code",
   "execution_count": 16,
   "metadata": {},
   "outputs": [],
   "source": [
    "numeric_attributes = listings.corr()['price'][(listings.corr()['price'] > 0.05) | (listings.corr()['price'] < -0.05)]"
   ]
  },
  {
   "cell_type": "markdown",
   "metadata": {},
   "source": [
    "Para selecionar os atributos categóricos, podemos fazer uma anova. Porém, antes iremos transformar todos os atributos do tipo string em categóricos. Alguns atributos como reviues e afins poderiam ser utilizados para a realização de análise de sentimento ou poderiam ser convertidos em vetores com word2vec. Todavia, para simplificar essa análise, eles serão transformados em categóricos. Para fins de exemplificação, irei apenas utilizar a variável neighbourhood_cleansed, que contém o bairro da acomodação, que eu acredito que influencie bastante no preço (irei verificar isso via ANOVA),"
   ]
  },
  {
   "cell_type": "code",
   "execution_count": 17,
   "metadata": {},
   "outputs": [],
   "source": [
    "listings['neighbourhood_cleansed'].fillna('',inplace=True)\n",
    "listings['neighbourhood_cleansed2'] = listings['neighbourhood_cleansed'].astype('category').cat.codes"
   ]
  },
  {
   "cell_type": "code",
   "execution_count": 18,
   "metadata": {},
   "outputs": [
    {
     "name": "stdout",
     "output_type": "stream",
     "text": [
      "4881.007104091766 0.0\n"
     ]
    }
   ],
   "source": [
    "import scipy.stats as stats\n",
    "fvalue, pvalue = stats.f_oneway(listings['neighbourhood_cleansed2'], listings['price'])\n",
    "print(fvalue, pvalue)"
   ]
  },
  {
   "cell_type": "markdown",
   "metadata": {},
   "source": [
    "Baseado no resulto da anova e no valor de P, podemos aceitar a hipótese nula que o caso é que os grupos possuem média diferente e, de tal forma podem estar relacionados, a vizinhança afeta . "
   ]
  },
  {
   "cell_type": "markdown",
   "metadata": {},
   "source": [
    "## Breves visualizações\n",
    "Iniciarei pela distribuição estatística do número de quartos. É esperado uma distribuição do tipo exponencial negativa devido ao fato de que é mais provável que as acomodações tenham não muitos quartos e que a probabilidade diminua à medida que aumente o número de quartos."
   ]
  },
  {
   "cell_type": "code",
   "execution_count": 19,
   "metadata": {},
   "outputs": [
    {
     "data": {
      "text/plain": [
       "<matplotlib.axes._subplots.AxesSubplot at 0x1220155e588>"
      ]
     },
     "execution_count": 19,
     "metadata": {},
     "output_type": "execute_result"
    },
    {
     "data": {
      "image/png": "[encoded data removed]",
      "text/plain": [
       "<Figure size 576x576 with 1 Axes>"
      ]
     },
     "metadata": {
      "needs_background": "light"
     },
     "output_type": "display_data"
    }
   ],
   "source": [
    "import seaborn as sns \n",
    "plt.figure(figsize=(8,8))\n",
    "sns.distplot(listings['bedrooms'], bins = 20, kde=False)"
   ]
  },
  {
   "cell_type": "markdown",
   "metadata": {},
   "source": [
    "O mesmo é esperado para os preços."
   ]
  },
  {
   "cell_type": "code",
   "execution_count": 20,
   "metadata": {},
   "outputs": [
    {
     "data": {
      "text/plain": [
       "<matplotlib.axes._subplots.AxesSubplot at 0x122014ee308>"
      ]
     },
     "execution_count": 20,
     "metadata": {},
     "output_type": "execute_result"
    },
    {
     "data": {
      "image/png": "[encoded data removed]",
      "text/plain": [
       "<Figure size 432x288 with 1 Axes>"
      ]
     },
     "metadata": {
      "needs_background": "light"
     },
     "output_type": "display_data"
    }
   ],
   "source": [
    "listings['price'].hist(bins = 10)"
   ]
  },
  {
   "cell_type": "markdown",
   "metadata": {},
   "source": [
    "O dado possui uma distruição exponencial decrescente. Esperado, posto que é mais provável encontrar acomodações com preço menor que com preço maior."
   ]
  },
  {
   "cell_type": "code",
   "execution_count": 21,
   "metadata": {},
   "outputs": [
    {
     "data": {
      "text/plain": [
       "<matplotlib.axes._subplots.AxesSubplot at 0x12201454cc8>"
      ]
     },
     "execution_count": 21,
     "metadata": {},
     "output_type": "execute_result"
    },
    {
     "data": {
      "image/png": "[encoded data removed]",
      "text/plain": [
       "<Figure size 432x288 with 1 Axes>"
      ]
     },
     "metadata": {
      "needs_background": "light"
     },
     "output_type": "display_data"
    }
   ],
   "source": [
    "listings.price.plot.kde()"
   ]
  },
  {
   "cell_type": "markdown",
   "metadata": {},
   "source": [
    "Esse fato foi confirmado pelo KDE."
   ]
  },
  {
   "cell_type": "code",
   "execution_count": 22,
   "metadata": {
    "scrolled": true
   },
   "outputs": [
    {
     "data": {
      "image/png": "[encoded data removed]",
      "text/plain": [
       "<Figure size 2160x360 with 1 Axes>"
      ]
     },
     "metadata": {
      "needs_background": "light"
     },
     "output_type": "display_data"
    }
   ],
   "source": [
    "plt.figure(figsize=(30,5))\n",
    "listings.groupby('neighbourhood').price.mean().sort_values().iloc[:40].plot(kind='bar')\n",
    "plt.title('Median price of Airbnbs by neighbourhood', fontsize=18)\n",
    "plt.xlabel('Neighbourhood', fontsize=15)\n",
    "plt.ylabel('Median price (R$)', fontsize=15)\n",
    "plt.xticks(rotation=90)\n",
    "plt.xlim(left=0.5)\n",
    "plt.show()\n"
   ]
  },
  {
   "cell_type": "markdown",
   "metadata": {},
   "source": [
    "# Modelagem\n",
    "O problema em um primeiro momento será modelado como um de regressão. Caso o resultado da regressão seja muito ruim, o problema será dividido em mais de um problema que poderão ser tratados como vários de regressão ou como vários de classificação, dividindo os preços em classes.\n",
    "\n",
    "## Seleção básica de atributos\n",
    "Irei selecionar alguns atributos baseados no artigo [Key Factors Affecting the Price of Airbnb Listings:\n",
    "A GeographicallyWeighted Approach](file:/assets/artigo_airbnb.pdf) e os demais baseados nos atributos numéricos baseada na seleção por correlação. Existem outras formas melhores de extrair e selecionar atributos, porém para simplificar o problema irei prosseguir dessa forma.\n"
   ]
  },
  {
   "cell_type": "code",
   "execution_count": 23,
   "metadata": {},
   "outputs": [],
   "source": [
    "indices = list(numeric_attributes.index)\n",
    "indices.append('neighbourhood_cleansed')"
   ]
  },
  {
   "cell_type": "code",
   "execution_count": 24,
   "metadata": {},
   "outputs": [],
   "source": [
    "data = listings[indices]"
   ]
  },
  {
   "cell_type": "code",
   "execution_count": 25,
   "metadata": {},
   "outputs": [
    {
     "name": "stderr",
     "output_type": "stream",
     "text": [
      "C:\\Users\\gbspg\\anaconda3\\lib\\site-packages\\pandas\\core\\frame.py:3997: SettingWithCopyWarning: \n",
      "A value is trying to be set on a copy of a slice from a DataFrame\n",
      "\n",
      "See the caveats in the documentation: https://pandas.pydata.org/pandas-docs/stable/user_guide/indexing.html#returning-a-view-versus-a-copy\n",
      "  errors=errors,\n",
      "C:\\Users\\gbspg\\anaconda3\\lib\\site-packages\\pandas\\core\\frame.py:2963: SettingWithCopyWarning: \n",
      "A value is trying to be set on a copy of a slice from a DataFrame.\n",
      "Try using .loc[row_indexer,col_indexer] = value instead\n",
      "\n",
      "See the caveats in the documentation: https://pandas.pydata.org/pandas-docs/stable/user_guide/indexing.html#returning-a-view-versus-a-copy\n",
      "  self[k1] = value[k2]\n"
     ]
    }
   ],
   "source": [
    "#neighbourhood como booleano\n",
    "neighb = pd.get_dummies(data.neighbourhood_cleansed, prefix='neighbourhood')\n",
    "data.drop('neighbourhood_cleansed', axis=1, inplace=True)\n",
    "data[neighb.columns] = neighb\n"
   ]
  },
  {
   "cell_type": "code",
   "execution_count": 26,
   "metadata": {},
   "outputs": [],
   "source": [
    "data.dropna(inplace=True)\n",
    "data.drop(['id', 'host_id'], axis=1, inplace=True)"
   ]
  },
  {
   "cell_type": "markdown",
   "metadata": {},
   "source": [
    "## Divisão em treinamento e teste\n",
    "Utilizarei aqui a regra dos 80% treinamento e validação e 20 % test. Nem sempre essa regra é necessária. Quanto maior a quantidade de dados e menor a quantidade de atributos mais dados podem ser deixados para o treinamento e menos para o teste."
   ]
  },
  {
   "cell_type": "code",
   "execution_count": 27,
   "metadata": {},
   "outputs": [],
   "source": [
    "from sklearn.model_selection import train_test_split\n",
    "X_train, X_test, y_train, y_test = train_test_split(data.drop('price', axis=1), data['price'], test_size=0.2, random_state=0)"
   ]
  },
  {
   "cell_type": "code",
   "execution_count": 28,
   "metadata": {},
   "outputs": [],
   "source": [
    "from sklearn.preprocessing import StandardScaler\n",
    "\n",
    "# normalizando pelo z-score(desvio padrão)\n",
    "scaler_train = StandardScaler()\n",
    "X_train = scaler_train.fit_transform(X_train)\n",
    "X_test = scaler_train.transform(X_test)"
   ]
  },
  {
   "cell_type": "markdown",
   "metadata": {},
   "source": [
    "# Regressão Linear (Baseline)\n",
    "Irei utilizar uma regressão linear como baseline. Isso porque ela não sofre com a maldição da dimensionalidade, assim não preciso fazer uma feature extraction e selection para obter um baseline. Utilizarei o ridge regression que é basicamente uam regressão linear por mínimos quadrados que penaliza valores altos de coeficientes, fazendo com que a maldição da dimensionalidade seja menos pior."
   ]
  },
  {
   "cell_type": "code",
   "execution_count": 29,
   "metadata": {},
   "outputs": [
    {
     "name": "stdout",
     "output_type": "stream",
     "text": [
      "R2 do treinamento:  0.3291344321132812\n",
      "R2 do test:  0.3206300781131962\n"
     ]
    }
   ],
   "source": [
    "from sklearn.linear_model import Ridge\n",
    "regressor = Ridge()\n",
    "regressor.fit(X_train, y_train)\n",
    "print(\"R2 do treinamento: \", regressor.score(X_train, y_train))\n",
    "print(\"R2 do test: \", regressor.score(X_test, y_test))"
   ]
  },
  {
   "cell_type": "markdown",
   "metadata": {},
   "source": [
    "Como é possível perceber, o resultado foi bem ruim, todavia podemos otimizar esse resultado utilizando um regressor mais complexo, como o LightGBM e utilizando otimização dos parâmetros. Veremos se esse regressor irá se comportar muito melhor."
   ]
  },
  {
   "cell_type": "markdown",
   "metadata": {},
   "source": [
    "# LightGBM\n",
    "Como o LightGBM tem muitos parâmetros para serem otimizados, irei utilizar uma busca de parâmetros por otimização através de forest minimize. "
   ]
  },
  {
   "cell_type": "code",
   "execution_count": 30,
   "metadata": {},
   "outputs": [],
   "source": [
    "# função para definir os parâmetros do modelo\n",
    "from sklearn.metrics import r2_score\n",
    "X = pd.DataFrame(X_train)\n",
    "y = pd.DataFrame(y_train)\n",
    "y = y['price']\n",
    "def tune_model(params):\n",
    "    lr = params[0]\n",
    "    max_depth = params[1]\n",
    "    min_child_samples = params[2]\n",
    "    subsample = params[3]\n",
    "    colsample_bytree = params[4]\n",
    "    n_estimators = params[5]\n",
    "    \n",
    "    r2s = []\n",
    "    \n",
    "    for (train, val) in KFold(5).split(X, y):\n",
    "        X_train, X_val = X.iloc[train], X.iloc[val]\n",
    "        y_train, y_val = y.iloc[train], y.iloc[val]\n",
    "\n",
    "        lgbm = LGBMRegressor(learning_rate=lr, num_leaves=2 ** max_depth,\n",
    "                            max_depth=max_depth,\n",
    "                            min_child_samples=min_child_samples,\n",
    "                            subsample=subsample,\n",
    "                            colsample_bytree=colsample_bytree,\n",
    "                            bagging_freq=1, n_estimators=n_estimators,\n",
    "                            random_state=42, class_weight=\"balanced\", n_jobs=100)\n",
    "        lgbm.fit(X_train, y_train)\n",
    "\n",
    "        pred = lgbm.predict(X_val)\n",
    "        r2 = r2_score(y_val, pred)\n",
    "\n",
    "        r2s.append(r2)\n",
    "\n",
    "    return -np.mean(r2s)"
   ]
  },
  {
   "cell_type": "code",
   "execution_count": 31,
   "metadata": {
    "scrolled": true
   },
   "outputs": [
    {
     "name": "stdout",
     "output_type": "stream",
     "text": [
      "[LightGBM] [Warning] bagging_freq is set=1, subsample_freq=0 will be ignored. Current value: bagging_freq=1\n",
      "[LightGBM] [Warning] bagging_freq is set=1, subsample_freq=0 will be ignored. Current value: bagging_freq=1\n",
      "[LightGBM] [Warning] bagging_freq is set=1, subsample_freq=0 will be ignored. Current value: bagging_freq=1\n",
      "[LightGBM] [Warning] bagging_freq is set=1, subsample_freq=0 will be ignored. Current value: bagging_freq=1\n",
      "[LightGBM] [Warning] bagging_freq is set=1, subsample_freq=0 will be ignored. Current value: bagging_freq=1\n",
      "[LightGBM] [Warning] bagging_freq is set=1, subsample_freq=0 will be ignored. Current value: bagging_freq=1\n",
      "[LightGBM] [Warning] bagging_freq is set=1, subsample_freq=0 will be ignored. Current value: bagging_freq=1\n",
      "[LightGBM] [Warning] bagging_freq is set=1, subsample_freq=0 will be ignored. Current value: bagging_freq=1\n",
      "[LightGBM] [Warning] bagging_freq is set=1, subsample_freq=0 will be ignored. Current value: bagging_freq=1\n",
      "[LightGBM] [Warning] bagging_freq is set=1, subsample_freq=0 will be ignored. Current value: bagging_freq=1\n",
      "[LightGBM] [Warning] bagging_freq is set=1, subsample_freq=0 will be ignored. Current value: bagging_freq=1\n",
      "[LightGBM] [Warning] bagging_freq is set=1, subsample_freq=0 will be ignored. Current value: bagging_freq=1\n",
      "[LightGBM] [Warning] bagging_freq is set=1, subsample_freq=0 will be ignored. Current value: bagging_freq=1\n",
      "[LightGBM] [Warning] bagging_freq is set=1, subsample_freq=0 will be ignored. Current value: bagging_freq=1\n",
      "[LightGBM] [Warning] bagging_freq is set=1, subsample_freq=0 will be ignored. Current value: bagging_freq=1\n",
      "[LightGBM] [Warning] bagging_freq is set=1, subsample_freq=0 will be ignored. Current value: bagging_freq=1\n",
      "[LightGBM] [Warning] bagging_freq is set=1, subsample_freq=0 will be ignored. Current value: bagging_freq=1\n",
      "[LightGBM] [Warning] bagging_freq is set=1, subsample_freq=0 will be ignored. Current value: bagging_freq=1\n",
      "[LightGBM] [Warning] bagging_freq is set=1, subsample_freq=0 will be ignored. Current value: bagging_freq=1\n",
      "[LightGBM] [Warning] bagging_freq is set=1, subsample_freq=0 will be ignored. Current value: bagging_freq=1\n",
      "[LightGBM] [Warning] bagging_freq is set=1, subsample_freq=0 will be ignored. Current value: bagging_freq=1\n",
      "[LightGBM] [Warning] bagging_freq is set=1, subsample_freq=0 will be ignored. Current value: bagging_freq=1\n",
      "[LightGBM] [Warning] bagging_freq is set=1, subsample_freq=0 will be ignored. Current value: bagging_freq=1\n",
      "[LightGBM] [Warning] bagging_freq is set=1, subsample_freq=0 will be ignored. Current value: bagging_freq=1\n",
      "[LightGBM] [Warning] bagging_freq is set=1, subsample_freq=0 will be ignored. Current value: bagging_freq=1\n",
      "[LightGBM] [Warning] bagging_freq is set=1, subsample_freq=0 will be ignored. Current value: bagging_freq=1\n",
      "[LightGBM] [Warning] bagging_freq is set=1, subsample_freq=0 will be ignored. Current value: bagging_freq=1\n",
      "[LightGBM] [Warning] bagging_freq is set=1, subsample_freq=0 will be ignored. Current value: bagging_freq=1\n",
      "[LightGBM] [Warning] bagging_freq is set=1, subsample_freq=0 will be ignored. Current value: bagging_freq=1\n",
      "[LightGBM] [Warning] bagging_freq is set=1, subsample_freq=0 will be ignored. Current value: bagging_freq=1\n",
      "[LightGBM] [Warning] bagging_freq is set=1, subsample_freq=0 will be ignored. Current value: bagging_freq=1\n",
      "[LightGBM] [Warning] bagging_freq is set=1, subsample_freq=0 will be ignored. Current value: bagging_freq=1\n",
      "[LightGBM] [Warning] bagging_freq is set=1, subsample_freq=0 will be ignored. Current value: bagging_freq=1\n",
      "[LightGBM] [Warning] bagging_freq is set=1, subsample_freq=0 will be ignored. Current value: bagging_freq=1\n",
      "[LightGBM] [Warning] bagging_freq is set=1, subsample_freq=0 will be ignored. Current value: bagging_freq=1\n",
      "[LightGBM] [Warning] bagging_freq is set=1, subsample_freq=0 will be ignored. Current value: bagging_freq=1\n",
      "[LightGBM] [Warning] bagging_freq is set=1, subsample_freq=0 will be ignored. Current value: bagging_freq=1\n",
      "[LightGBM] [Warning] bagging_freq is set=1, subsample_freq=0 will be ignored. Current value: bagging_freq=1\n",
      "[LightGBM] [Warning] bagging_freq is set=1, subsample_freq=0 will be ignored. Current value: bagging_freq=1\n",
      "[LightGBM] [Warning] bagging_freq is set=1, subsample_freq=0 will be ignored. Current value: bagging_freq=1\n",
      "[LightGBM] [Warning] bagging_freq is set=1, subsample_freq=0 will be ignored. Current value: bagging_freq=1\n",
      "[LightGBM] [Warning] bagging_freq is set=1, subsample_freq=0 will be ignored. Current value: bagging_freq=1\n",
      "[LightGBM] [Warning] bagging_freq is set=1, subsample_freq=0 will be ignored. Current value: bagging_freq=1\n",
      "[LightGBM] [Warning] bagging_freq is set=1, subsample_freq=0 will be ignored. Current value: bagging_freq=1\n",
      "[LightGBM] [Warning] bagging_freq is set=1, subsample_freq=0 will be ignored. Current value: bagging_freq=1\n",
      "[LightGBM] [Warning] bagging_freq is set=1, subsample_freq=0 will be ignored. Current value: bagging_freq=1\n",
      "[LightGBM] [Warning] bagging_freq is set=1, subsample_freq=0 will be ignored. Current value: bagging_freq=1\n",
      "[LightGBM] [Warning] bagging_freq is set=1, subsample_freq=0 will be ignored. Current value: bagging_freq=1\n",
      "[LightGBM] [Warning] bagging_freq is set=1, subsample_freq=0 will be ignored. Current value: bagging_freq=1\n",
      "[LightGBM] [Warning] bagging_freq is set=1, subsample_freq=0 will be ignored. Current value: bagging_freq=1\n"
     ]
    }
   ],
   "source": [
    "from skopt import forest_minimize\n",
    "from sklearn.metrics import f1_score, confusion_matrix, classification_report\n",
    "from sklearn.model_selection import train_test_split, KFold\n",
    "import scikitplot as skplt\n",
    "from lightgbm import LGBMRegressor\n",
    "\n",
    "\n",
    "space = [(1e-3, 1e-1, 'log-uniform'),  # lr\n",
    "         (1, 7),  # max_depth\n",
    "         (1, 20),  # min_child_samples\n",
    "         (0.05, 1.),  # subsample\n",
    "         (0.05, 1.),  # colsample_bytree\n",
    "         (1, 700)]  # n_estimators\n",
    "\n",
    "res = forest_minimize(tune_model, space, random_state=42, n_jobs=100,\n",
    "                      n_random_starts=2, n_calls=10, verbose=0)\n",
    "\n",
    "lr, max_depth, min_child_samples, subsample, colsample_bytree, n_estimators = res.x\n",
    "\n",
    "mdl = LGBMRegressor(learning_rate=lr, num_leaves=2 ** max_depth,\n",
    "                     max_depth=max_depth,\n",
    "                     min_child_samples=min_child_samples,\n",
    "                     subsample=subsample,\n",
    "                     colsample_bytree=colsample_bytree,\n",
    "                     n_estimators=n_estimators, random_state=42, n_jobs=100)"
   ]
  },
  {
   "cell_type": "code",
   "execution_count": 33,
   "metadata": {},
   "outputs": [
    {
     "data": {
      "text/plain": [
       "0.921960707201892"
      ]
     },
     "execution_count": 33,
     "metadata": {},
     "output_type": "execute_result"
    }
   ],
   "source": [
    "mdl.fit(X_train, y_train)\n",
    "mdl.score(X_train, y_train)"
   ]
  },
  {
   "cell_type": "code",
   "execution_count": 34,
   "metadata": {},
   "outputs": [
    {
     "data": {
      "text/plain": [
       "0.3941696458073709"
      ]
     },
     "execution_count": 34,
     "metadata": {},
     "output_type": "execute_result"
    }
   ],
   "source": [
    "mdl.score(X_test, y_test)"
   ]
  },
  {
   "cell_type": "markdown",
   "metadata": {},
   "source": [
    "Conforme é possível ver, o modelo está sofrendo bastante overfitting. Para tentar reduzir o overfitting, irei adicionar a possibilidade de seleção do tipo de boosting também."
   ]
  },
  {
   "cell_type": "code",
   "execution_count": 35,
   "metadata": {},
   "outputs": [
    {
     "name": "stdout",
     "output_type": "stream",
     "text": [
      "[LightGBM] [Warning] bagging_freq is set=1, subsample_freq=0 will be ignored. Current value: bagging_freq=1\n",
      "[LightGBM] [Warning] bagging_freq is set=1, subsample_freq=0 will be ignored. Current value: bagging_freq=1\n",
      "[LightGBM] [Warning] bagging_freq is set=1, subsample_freq=0 will be ignored. Current value: bagging_freq=1\n",
      "[LightGBM] [Warning] bagging_freq is set=1, subsample_freq=0 will be ignored. Current value: bagging_freq=1\n",
      "[LightGBM] [Warning] bagging_freq is set=1, subsample_freq=0 will be ignored. Current value: bagging_freq=1\n",
      "[LightGBM] [Warning] bagging_freq is set=1, subsample_freq=0 will be ignored. Current value: bagging_freq=1\n",
      "[LightGBM] [Warning] bagging_freq is set=1, subsample_freq=0 will be ignored. Current value: bagging_freq=1\n",
      "[LightGBM] [Warning] bagging_freq is set=1, subsample_freq=0 will be ignored. Current value: bagging_freq=1\n",
      "[LightGBM] [Warning] bagging_freq is set=1, subsample_freq=0 will be ignored. Current value: bagging_freq=1\n",
      "[LightGBM] [Warning] bagging_freq is set=1, subsample_freq=0 will be ignored. Current value: bagging_freq=1\n",
      "[LightGBM] [Warning] bagging_freq is set=1, subsample_freq=0 will be ignored. Current value: bagging_freq=1\n",
      "[LightGBM] [Warning] bagging_freq is set=1, subsample_freq=0 will be ignored. Current value: bagging_freq=1\n",
      "[LightGBM] [Warning] bagging_freq is set=1, subsample_freq=0 will be ignored. Current value: bagging_freq=1\n",
      "[LightGBM] [Warning] bagging_freq is set=1, subsample_freq=0 will be ignored. Current value: bagging_freq=1\n",
      "[LightGBM] [Warning] bagging_freq is set=1, subsample_freq=0 will be ignored. Current value: bagging_freq=1\n",
      "[LightGBM] [Warning] bagging_freq is set=1, subsample_freq=0 will be ignored. Current value: bagging_freq=1\n",
      "[LightGBM] [Warning] bagging_freq is set=1, subsample_freq=0 will be ignored. Current value: bagging_freq=1\n",
      "[LightGBM] [Warning] bagging_freq is set=1, subsample_freq=0 will be ignored. Current value: bagging_freq=1\n",
      "[LightGBM] [Warning] bagging_freq is set=1, subsample_freq=0 will be ignored. Current value: bagging_freq=1\n",
      "[LightGBM] [Warning] bagging_freq is set=1, subsample_freq=0 will be ignored. Current value: bagging_freq=1\n",
      "[LightGBM] [Warning] bagging_freq is set=1, subsample_freq=0 will be ignored. Current value: bagging_freq=1\n",
      "[LightGBM] [Warning] bagging_freq is set=1, subsample_freq=0 will be ignored. Current value: bagging_freq=1\n",
      "[LightGBM] [Warning] bagging_freq is set=1, subsample_freq=0 will be ignored. Current value: bagging_freq=1\n",
      "[LightGBM] [Warning] bagging_freq is set=1, subsample_freq=0 will be ignored. Current value: bagging_freq=1\n",
      "[LightGBM] [Warning] bagging_freq is set=1, subsample_freq=0 will be ignored. Current value: bagging_freq=1\n",
      "[LightGBM] [Warning] bagging_freq is set=1, subsample_freq=0 will be ignored. Current value: bagging_freq=1\n",
      "[LightGBM] [Warning] bagging_freq is set=1, subsample_freq=0 will be ignored. Current value: bagging_freq=1\n",
      "[LightGBM] [Warning] bagging_freq is set=1, subsample_freq=0 will be ignored. Current value: bagging_freq=1\n",
      "[LightGBM] [Warning] bagging_freq is set=1, subsample_freq=0 will be ignored. Current value: bagging_freq=1\n",
      "[LightGBM] [Warning] bagging_freq is set=1, subsample_freq=0 will be ignored. Current value: bagging_freq=1\n",
      "[LightGBM] [Warning] bagging_freq is set=1, subsample_freq=0 will be ignored. Current value: bagging_freq=1\n",
      "[LightGBM] [Warning] bagging_freq is set=1, subsample_freq=0 will be ignored. Current value: bagging_freq=1\n",
      "[LightGBM] [Warning] bagging_freq is set=1, subsample_freq=0 will be ignored. Current value: bagging_freq=1\n",
      "[LightGBM] [Warning] bagging_freq is set=1, subsample_freq=0 will be ignored. Current value: bagging_freq=1\n",
      "[LightGBM] [Warning] bagging_freq is set=1, subsample_freq=0 will be ignored. Current value: bagging_freq=1\n",
      "[LightGBM] [Warning] bagging_freq is set=1, subsample_freq=0 will be ignored. Current value: bagging_freq=1\n",
      "[LightGBM] [Warning] bagging_freq is set=1, subsample_freq=0 will be ignored. Current value: bagging_freq=1\n",
      "[LightGBM] [Warning] bagging_freq is set=1, subsample_freq=0 will be ignored. Current value: bagging_freq=1\n",
      "[LightGBM] [Warning] bagging_freq is set=1, subsample_freq=0 will be ignored. Current value: bagging_freq=1\n",
      "[LightGBM] [Warning] bagging_freq is set=1, subsample_freq=0 will be ignored. Current value: bagging_freq=1\n",
      "[LightGBM] [Warning] bagging_freq is set=1, subsample_freq=0 will be ignored. Current value: bagging_freq=1\n",
      "[LightGBM] [Warning] bagging_freq is set=1, subsample_freq=0 will be ignored. Current value: bagging_freq=1\n",
      "[LightGBM] [Warning] bagging_freq is set=1, subsample_freq=0 will be ignored. Current value: bagging_freq=1\n",
      "[LightGBM] [Warning] bagging_freq is set=1, subsample_freq=0 will be ignored. Current value: bagging_freq=1\n",
      "[LightGBM] [Warning] bagging_freq is set=1, subsample_freq=0 will be ignored. Current value: bagging_freq=1\n",
      "[LightGBM] [Warning] bagging_freq is set=1, subsample_freq=0 will be ignored. Current value: bagging_freq=1\n",
      "[LightGBM] [Warning] bagging_freq is set=1, subsample_freq=0 will be ignored. Current value: bagging_freq=1\n",
      "[LightGBM] [Warning] bagging_freq is set=1, subsample_freq=0 will be ignored. Current value: bagging_freq=1\n",
      "[LightGBM] [Warning] bagging_freq is set=1, subsample_freq=0 will be ignored. Current value: bagging_freq=1\n",
      "[LightGBM] [Warning] bagging_freq is set=1, subsample_freq=0 will be ignored. Current value: bagging_freq=1\n",
      "[LightGBM] [Warning] bagging_freq is set=1, subsample_freq=0 will be ignored. Current value: bagging_freq=1\n",
      "[LightGBM] [Warning] bagging_freq is set=1, subsample_freq=0 will be ignored. Current value: bagging_freq=1\n",
      "[LightGBM] [Warning] bagging_freq is set=1, subsample_freq=0 will be ignored. Current value: bagging_freq=1\n",
      "[LightGBM] [Warning] bagging_freq is set=1, subsample_freq=0 will be ignored. Current value: bagging_freq=1\n",
      "[LightGBM] [Warning] bagging_freq is set=1, subsample_freq=0 will be ignored. Current value: bagging_freq=1\n",
      "[LightGBM] [Warning] bagging_freq is set=1, subsample_freq=0 will be ignored. Current value: bagging_freq=1\n",
      "[LightGBM] [Warning] bagging_freq is set=1, subsample_freq=0 will be ignored. Current value: bagging_freq=1\n",
      "[LightGBM] [Warning] bagging_freq is set=1, subsample_freq=0 will be ignored. Current value: bagging_freq=1\n",
      "[LightGBM] [Warning] bagging_freq is set=1, subsample_freq=0 will be ignored. Current value: bagging_freq=1\n",
      "[LightGBM] [Warning] bagging_freq is set=1, subsample_freq=0 will be ignored. Current value: bagging_freq=1\n",
      "[LightGBM] [Warning] bagging_freq is set=1, subsample_freq=0 will be ignored. Current value: bagging_freq=1\n",
      "[LightGBM] [Warning] bagging_freq is set=1, subsample_freq=0 will be ignored. Current value: bagging_freq=1\n",
      "[LightGBM] [Warning] bagging_freq is set=1, subsample_freq=0 will be ignored. Current value: bagging_freq=1\n",
      "[LightGBM] [Warning] bagging_freq is set=1, subsample_freq=0 will be ignored. Current value: bagging_freq=1\n",
      "[LightGBM] [Warning] bagging_freq is set=1, subsample_freq=0 will be ignored. Current value: bagging_freq=1\n",
      "[LightGBM] [Warning] bagging_freq is set=1, subsample_freq=0 will be ignored. Current value: bagging_freq=1\n",
      "[LightGBM] [Warning] bagging_freq is set=1, subsample_freq=0 will be ignored. Current value: bagging_freq=1\n",
      "[LightGBM] [Warning] bagging_freq is set=1, subsample_freq=0 will be ignored. Current value: bagging_freq=1\n",
      "[LightGBM] [Warning] bagging_freq is set=1, subsample_freq=0 will be ignored. Current value: bagging_freq=1\n",
      "[LightGBM] [Warning] bagging_freq is set=1, subsample_freq=0 will be ignored. Current value: bagging_freq=1\n",
      "[LightGBM] [Warning] bagging_freq is set=1, subsample_freq=0 will be ignored. Current value: bagging_freq=1\n",
      "[LightGBM] [Warning] bagging_freq is set=1, subsample_freq=0 will be ignored. Current value: bagging_freq=1\n",
      "[LightGBM] [Warning] bagging_freq is set=1, subsample_freq=0 will be ignored. Current value: bagging_freq=1\n",
      "[LightGBM] [Warning] bagging_freq is set=1, subsample_freq=0 will be ignored. Current value: bagging_freq=1\n",
      "[LightGBM] [Warning] bagging_freq is set=1, subsample_freq=0 will be ignored. Current value: bagging_freq=1\n",
      "[LightGBM] [Warning] bagging_freq is set=1, subsample_freq=0 will be ignored. Current value: bagging_freq=1\n"
     ]
    },
    {
     "name": "stdout",
     "output_type": "stream",
     "text": [
      "[LightGBM] [Warning] bagging_freq is set=1, subsample_freq=0 will be ignored. Current value: bagging_freq=1\n",
      "[LightGBM] [Warning] bagging_freq is set=1, subsample_freq=0 will be ignored. Current value: bagging_freq=1\n",
      "[LightGBM] [Warning] bagging_freq is set=1, subsample_freq=0 will be ignored. Current value: bagging_freq=1\n",
      "[LightGBM] [Warning] bagging_freq is set=1, subsample_freq=0 will be ignored. Current value: bagging_freq=1\n",
      "[LightGBM] [Warning] bagging_freq is set=1, subsample_freq=0 will be ignored. Current value: bagging_freq=1\n",
      "[LightGBM] [Warning] bagging_freq is set=1, subsample_freq=0 will be ignored. Current value: bagging_freq=1\n",
      "[LightGBM] [Warning] bagging_freq is set=1, subsample_freq=0 will be ignored. Current value: bagging_freq=1\n",
      "[LightGBM] [Warning] bagging_freq is set=1, subsample_freq=0 will be ignored. Current value: bagging_freq=1\n",
      "[LightGBM] [Warning] bagging_freq is set=1, subsample_freq=0 will be ignored. Current value: bagging_freq=1\n",
      "[LightGBM] [Warning] bagging_freq is set=1, subsample_freq=0 will be ignored. Current value: bagging_freq=1\n",
      "[LightGBM] [Warning] bagging_freq is set=1, subsample_freq=0 will be ignored. Current value: bagging_freq=1\n",
      "[LightGBM] [Warning] bagging_freq is set=1, subsample_freq=0 will be ignored. Current value: bagging_freq=1\n",
      "[LightGBM] [Warning] bagging_freq is set=1, subsample_freq=0 will be ignored. Current value: bagging_freq=1\n",
      "[LightGBM] [Warning] bagging_freq is set=1, subsample_freq=0 will be ignored. Current value: bagging_freq=1\n",
      "[LightGBM] [Warning] bagging_freq is set=1, subsample_freq=0 will be ignored. Current value: bagging_freq=1\n",
      "[LightGBM] [Warning] bagging_freq is set=1, subsample_freq=0 will be ignored. Current value: bagging_freq=1\n",
      "[LightGBM] [Warning] bagging_freq is set=1, subsample_freq=0 will be ignored. Current value: bagging_freq=1\n",
      "[LightGBM] [Warning] bagging_freq is set=1, subsample_freq=0 will be ignored. Current value: bagging_freq=1\n",
      "[LightGBM] [Warning] bagging_freq is set=1, subsample_freq=0 will be ignored. Current value: bagging_freq=1\n",
      "[LightGBM] [Warning] bagging_freq is set=1, subsample_freq=0 will be ignored. Current value: bagging_freq=1\n",
      "[LightGBM] [Warning] bagging_freq is set=1, subsample_freq=0 will be ignored. Current value: bagging_freq=1\n",
      "[LightGBM] [Warning] bagging_freq is set=1, subsample_freq=0 will be ignored. Current value: bagging_freq=1\n",
      "[LightGBM] [Warning] bagging_freq is set=1, subsample_freq=0 will be ignored. Current value: bagging_freq=1\n",
      "[LightGBM] [Warning] bagging_freq is set=1, subsample_freq=0 will be ignored. Current value: bagging_freq=1\n",
      "[LightGBM] [Warning] bagging_freq is set=1, subsample_freq=0 will be ignored. Current value: bagging_freq=1\n",
      "[LightGBM] [Warning] bagging_freq is set=1, subsample_freq=0 will be ignored. Current value: bagging_freq=1\n",
      "[LightGBM] [Warning] bagging_freq is set=1, subsample_freq=0 will be ignored. Current value: bagging_freq=1\n",
      "[LightGBM] [Warning] bagging_freq is set=1, subsample_freq=0 will be ignored. Current value: bagging_freq=1\n",
      "[LightGBM] [Warning] bagging_freq is set=1, subsample_freq=0 will be ignored. Current value: bagging_freq=1\n",
      "[LightGBM] [Warning] bagging_freq is set=1, subsample_freq=0 will be ignored. Current value: bagging_freq=1\n",
      "[LightGBM] [Warning] bagging_freq is set=1, subsample_freq=0 will be ignored. Current value: bagging_freq=1\n",
      "[LightGBM] [Warning] bagging_freq is set=1, subsample_freq=0 will be ignored. Current value: bagging_freq=1\n",
      "[LightGBM] [Warning] bagging_freq is set=1, subsample_freq=0 will be ignored. Current value: bagging_freq=1\n",
      "[LightGBM] [Warning] bagging_freq is set=1, subsample_freq=0 will be ignored. Current value: bagging_freq=1\n",
      "[LightGBM] [Warning] bagging_freq is set=1, subsample_freq=0 will be ignored. Current value: bagging_freq=1\n",
      "[LightGBM] [Warning] bagging_freq is set=1, subsample_freq=0 will be ignored. Current value: bagging_freq=1\n",
      "[LightGBM] [Warning] bagging_freq is set=1, subsample_freq=0 will be ignored. Current value: bagging_freq=1\n",
      "[LightGBM] [Warning] bagging_freq is set=1, subsample_freq=0 will be ignored. Current value: bagging_freq=1\n",
      "[LightGBM] [Warning] bagging_freq is set=1, subsample_freq=0 will be ignored. Current value: bagging_freq=1\n",
      "[LightGBM] [Warning] bagging_freq is set=1, subsample_freq=0 will be ignored. Current value: bagging_freq=1\n",
      "[LightGBM] [Warning] bagging_freq is set=1, subsample_freq=0 will be ignored. Current value: bagging_freq=1\n",
      "[LightGBM] [Warning] bagging_freq is set=1, subsample_freq=0 will be ignored. Current value: bagging_freq=1\n",
      "[LightGBM] [Warning] bagging_freq is set=1, subsample_freq=0 will be ignored. Current value: bagging_freq=1\n",
      "[LightGBM] [Warning] bagging_freq is set=1, subsample_freq=0 will be ignored. Current value: bagging_freq=1\n",
      "[LightGBM] [Warning] bagging_freq is set=1, subsample_freq=0 will be ignored. Current value: bagging_freq=1\n",
      "[LightGBM] [Warning] bagging_freq is set=1, subsample_freq=0 will be ignored. Current value: bagging_freq=1\n",
      "[LightGBM] [Warning] bagging_freq is set=1, subsample_freq=0 will be ignored. Current value: bagging_freq=1\n",
      "[LightGBM] [Warning] bagging_freq is set=1, subsample_freq=0 will be ignored. Current value: bagging_freq=1\n",
      "[LightGBM] [Warning] bagging_freq is set=1, subsample_freq=0 will be ignored. Current value: bagging_freq=1\n",
      "[LightGBM] [Warning] bagging_freq is set=1, subsample_freq=0 will be ignored. Current value: bagging_freq=1\n",
      "[LightGBM] [Warning] bagging_freq is set=1, subsample_freq=0 will be ignored. Current value: bagging_freq=1\n",
      "[LightGBM] [Warning] bagging_freq is set=1, subsample_freq=0 will be ignored. Current value: bagging_freq=1\n",
      "[LightGBM] [Warning] bagging_freq is set=1, subsample_freq=0 will be ignored. Current value: bagging_freq=1\n",
      "[LightGBM] [Warning] bagging_freq is set=1, subsample_freq=0 will be ignored. Current value: bagging_freq=1\n",
      "[LightGBM] [Warning] bagging_freq is set=1, subsample_freq=0 will be ignored. Current value: bagging_freq=1\n",
      "[LightGBM] [Warning] bagging_freq is set=1, subsample_freq=0 will be ignored. Current value: bagging_freq=1\n",
      "[LightGBM] [Warning] bagging_freq is set=1, subsample_freq=0 will be ignored. Current value: bagging_freq=1\n",
      "[LightGBM] [Warning] bagging_freq is set=1, subsample_freq=0 will be ignored. Current value: bagging_freq=1\n",
      "[LightGBM] [Warning] bagging_freq is set=1, subsample_freq=0 will be ignored. Current value: bagging_freq=1\n",
      "[LightGBM] [Warning] bagging_freq is set=1, subsample_freq=0 will be ignored. Current value: bagging_freq=1\n",
      "[LightGBM] [Warning] bagging_freq is set=1, subsample_freq=0 will be ignored. Current value: bagging_freq=1\n",
      "[LightGBM] [Warning] bagging_freq is set=1, subsample_freq=0 will be ignored. Current value: bagging_freq=1\n",
      "[LightGBM] [Warning] bagging_freq is set=1, subsample_freq=0 will be ignored. Current value: bagging_freq=1\n",
      "[LightGBM] [Warning] bagging_freq is set=1, subsample_freq=0 will be ignored. Current value: bagging_freq=1\n",
      "[LightGBM] [Warning] bagging_freq is set=1, subsample_freq=0 will be ignored. Current value: bagging_freq=1\n",
      "[LightGBM] [Warning] bagging_freq is set=1, subsample_freq=0 will be ignored. Current value: bagging_freq=1\n",
      "[LightGBM] [Warning] bagging_freq is set=1, subsample_freq=0 will be ignored. Current value: bagging_freq=1\n",
      "[LightGBM] [Warning] bagging_freq is set=1, subsample_freq=0 will be ignored. Current value: bagging_freq=1\n",
      "[LightGBM] [Warning] bagging_freq is set=1, subsample_freq=0 will be ignored. Current value: bagging_freq=1\n",
      "[LightGBM] [Warning] bagging_freq is set=1, subsample_freq=0 will be ignored. Current value: bagging_freq=1\n",
      "[LightGBM] [Warning] bagging_freq is set=1, subsample_freq=0 will be ignored. Current value: bagging_freq=1\n",
      "[LightGBM] [Warning] bagging_freq is set=1, subsample_freq=0 will be ignored. Current value: bagging_freq=1\n",
      "[LightGBM] [Warning] bagging_freq is set=1, subsample_freq=0 will be ignored. Current value: bagging_freq=1\n",
      "[LightGBM] [Warning] bagging_freq is set=1, subsample_freq=0 will be ignored. Current value: bagging_freq=1\n"
     ]
    }
   ],
   "source": [
    "space = [(1e-3, 1e-1, 'log-uniform'),  # lr\n",
    "         (1, 7),  # max_depth\n",
    "         (1, 20),  # min_child_samples\n",
    "         (0.05, 1.),  # res\n",
    "         (0.05, 1.),  # colsample_bytree\n",
    "         (1, 700), # n_estimators\n",
    "         ('gbdt', 'rf', 'dart', 'goss')]  # boosting type\n",
    "\n",
    "res = forest_minimize(tune_model, space, random_state=42, n_jobs=100,\n",
    "                      n_random_starts=2, n_calls=30, verbose=0)\n",
    "\n",
    "lr, max_depth, min_child_samples, subsample, colsample_bytree, n_estimators, bst = res.x\n",
    "\n",
    "mdl = LGBMRegressor(learning_rate=lr, num_leaves=2 ** max_depth,\n",
    "                     max_depth=max_depth,\n",
    "                     min_child_samples=min_child_samples,\n",
    "                     subsample=subsample,\n",
    "                     boosting=bst,\n",
    "                     colsample_bytree=colsample_bytree,\n",
    "                     n_estimators=n_estimators, random_state=42, n_jobs=100)"
   ]
  },
  {
   "cell_type": "code",
   "execution_count": 38,
   "metadata": {},
   "outputs": [
    {
     "name": "stdout",
     "output_type": "stream",
     "text": [
      "[LightGBM] [Warning] boosting is set=gbdt, boosting_type=gbdt will be ignored. Current value: boosting=gbdt\n"
     ]
    },
    {
     "data": {
      "text/plain": [
       "0.5906438887557559"
      ]
     },
     "execution_count": 38,
     "metadata": {},
     "output_type": "execute_result"
    }
   ],
   "source": [
    "mdl.fit(X_train, y_train)\n",
    "mdl.score(X_train, y_train)"
   ]
  },
  {
   "cell_type": "code",
   "execution_count": 39,
   "metadata": {},
   "outputs": [
    {
     "data": {
      "text/plain": [
       "0.3355581823681246"
      ]
     },
     "execution_count": 39,
     "metadata": {},
     "output_type": "execute_result"
    }
   ],
   "source": [
    "mdl.score(X_test, y_test)"
   ]
  },
  {
   "cell_type": "markdown",
   "metadata": {},
   "source": [
    "O resultado piorou. Para tentar melhorar eu deveria aumentar o número de buscas no espaço de busca.\n",
    "Irei fazer um feature importance"
   ]
  },
  {
   "cell_type": "code",
   "execution_count": 40,
   "metadata": {},
   "outputs": [
    {
     "data": {
      "image/png": "[encoded data removed]",
      "text/plain": [
       "<Figure size 1440x720 with 1 Axes>"
      ]
     },
     "metadata": {
      "needs_background": "light"
     },
     "output_type": "display_data"
    }
   ],
   "source": [
    "%matplotlib inline\n",
    "import matplotlib.pyplot as plt\n",
    "import seaborn as sns\n",
    "import warnings\n",
    "warnings.simplefilter(action='ignore', category=FutureWarning)\n",
    "\n",
    "\n",
    "# sorted(zip(clf.feature_importances_, X.columns), reverse=True)\n",
    "feature_imp = pd.DataFrame(sorted(zip(mdl.feature_importances_, data.drop('price', axis=1).columns)), columns=['Value','Feature'])\n",
    "\n",
    "plt.figure(figsize=(20, 10))\n",
    "sns.barplot(x=\"Value\", y=\"Feature\", data=feature_imp.sort_values(by=\"Value\", ascending=False).iloc[:15])\n",
    "plt.title('LightGBM Features (avg over folds)')\n",
    "plt.tight_layout()\n",
    "plt.show()\n"
   ]
  },
  {
   "cell_type": "markdown",
   "metadata": {},
   "source": [
    "Como é possível perceber, a variável mais importante é a latitude, que indica localização. Diversas melhorias poderiam ser realizadas, principalmente na parte de extração de features e seleção de modelos."
   ]
  },
  {
   "cell_type": "code",
   "execution_count": null,
   "metadata": {},
   "outputs": [],
   "source": []
  }
 ],
 "metadata": {
  "kernelspec": {
   "display_name": "Python 3",
   "language": "python",
   "name": "python3"
  },
  "language_info": {
   "codemirror_mode": {
    "name": "ipython",
    "version": 3
   },
   "file_extension": ".py",
   "mimetype": "text/x-python",
   "name": "python",
   "nbconvert_exporter": "python",
   "pygments_lexer": "ipython3",
   "version": "3.7.6"
  }
 },
 "nbformat": 4,
 "nbformat_minor": 2
}
